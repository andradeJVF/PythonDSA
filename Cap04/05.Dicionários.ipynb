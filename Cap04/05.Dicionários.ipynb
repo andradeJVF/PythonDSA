{
 "cells": [
  {
   "cell_type": "markdown",
   "id": "51ec31c0",
   "metadata": {},
   "source": [
    "### Dicionários"
   ]
  },
  {
   "cell_type": "code",
   "execution_count": null,
   "id": "bda3067c",
   "metadata": {},
   "outputs": [],
   "source": [
    "estudantes = ['Pedro', 24, 'Ana', 22, 'Ronaldo', 22, 'Janaina', 25,]"
   ]
  },
  {
   "cell_type": "code",
   "execution_count": null,
   "id": "39bf6692",
   "metadata": {},
   "outputs": [],
   "source": [
    "estudantes"
   ]
  },
  {
   "cell_type": "code",
   "execution_count": null,
   "id": "e00ee91f",
   "metadata": {},
   "outputs": [],
   "source": [
    "#cria uma denpendência (junção) entre pares de valores\n",
    "estudantes_dict = {'Pedro':24, 'Ana':22, 'Ronaldo':26, 'Janaina':25}"
   ]
  },
  {
   "cell_type": "code",
   "execution_count": null,
   "id": "33e07013",
   "metadata": {},
   "outputs": [],
   "source": [
    "estudantes_dict"
   ]
  },
  {
   "cell_type": "code",
   "execution_count": null,
   "id": "aafee968",
   "metadata": {},
   "outputs": [],
   "source": [
    "estudantes_dict['Pedro']"
   ]
  },
  {
   "cell_type": "code",
   "execution_count": null,
   "id": "5926299d",
   "metadata": {},
   "outputs": [],
   "source": [
    "estudantes_dict['Marcelo'] = 23"
   ]
  },
  {
   "cell_type": "code",
   "execution_count": null,
   "id": "051d4ea3",
   "metadata": {},
   "outputs": [],
   "source": [
    "estudantes_dict['Marcelo']"
   ]
  },
  {
   "cell_type": "code",
   "execution_count": null,
   "id": "7a918d78",
   "metadata": {},
   "outputs": [],
   "source": [
    "estudantes_dict.clear()"
   ]
  },
  {
   "cell_type": "code",
   "execution_count": null,
   "id": "0965141e",
   "metadata": {},
   "outputs": [],
   "source": [
    "estudantes_dict"
   ]
  },
  {
   "cell_type": "code",
   "execution_count": null,
   "id": "d73c84fd",
   "metadata": {},
   "outputs": [],
   "source": [
    "del estudantes_dict"
   ]
  },
  {
   "cell_type": "code",
   "execution_count": null,
   "id": "a11ab6d6",
   "metadata": {},
   "outputs": [],
   "source": [
    "estudantes = {'Pedro':24, 'Ana':22, 'Ronaldo':26, 'Janaina':25}"
   ]
  },
  {
   "cell_type": "code",
   "execution_count": null,
   "id": "a2a4af32",
   "metadata": {},
   "outputs": [],
   "source": [
    "estudantes"
   ]
  },
  {
   "cell_type": "code",
   "execution_count": null,
   "id": "5e4d84ae",
   "metadata": {},
   "outputs": [],
   "source": [
    "len(estudantes)"
   ]
  },
  {
   "cell_type": "code",
   "execution_count": null,
   "id": "abe8b4ee",
   "metadata": {},
   "outputs": [],
   "source": [
    "estudantes.keys()"
   ]
  },
  {
   "cell_type": "code",
   "execution_count": null,
   "id": "65db6272",
   "metadata": {},
   "outputs": [],
   "source": [
    "estudantes.values()"
   ]
  },
  {
   "cell_type": "code",
   "execution_count": null,
   "id": "26f93c08",
   "metadata": {},
   "outputs": [],
   "source": [
    "estudantes.items()"
   ]
  },
  {
   "cell_type": "code",
   "execution_count": null,
   "id": "19f51e83",
   "metadata": {},
   "outputs": [],
   "source": [
    "estudantes2 = {'Camila':27, 'Adriana':28, 'Roberta':26}"
   ]
  },
  {
   "cell_type": "code",
   "execution_count": null,
   "id": "a5313d26",
   "metadata": {},
   "outputs": [],
   "source": [
    "estudantes2"
   ]
  },
  {
   "cell_type": "code",
   "execution_count": null,
   "id": "5a0955b8",
   "metadata": {},
   "outputs": [],
   "source": [
    "#concatena os dicionários\n",
    "estudantes.update(estudantes2)"
   ]
  },
  {
   "cell_type": "code",
   "execution_count": null,
   "id": "a2101ccc",
   "metadata": {},
   "outputs": [],
   "source": [
    "estudantes"
   ]
  },
  {
   "cell_type": "code",
   "execution_count": null,
   "id": "c1516806",
   "metadata": {},
   "outputs": [],
   "source": [
    "dic1 = {}"
   ]
  },
  {
   "cell_type": "code",
   "execution_count": null,
   "id": "5f1c862c",
   "metadata": {},
   "outputs": [],
   "source": [
    "dic1['Chave1'] = 2"
   ]
  },
  {
   "cell_type": "code",
   "execution_count": null,
   "id": "34a35a50",
   "metadata": {},
   "outputs": [],
   "source": [
    "print(dic1)"
   ]
  },
  {
   "cell_type": "code",
   "execution_count": null,
   "id": "266cba7b",
   "metadata": {},
   "outputs": [],
   "source": [
    "dic1[10] = 5"
   ]
  },
  {
   "cell_type": "code",
   "execution_count": null,
   "id": "7eab38cc",
   "metadata": {},
   "outputs": [],
   "source": [
    "dic1"
   ]
  },
  {
   "cell_type": "code",
   "execution_count": null,
   "id": "90198f0e",
   "metadata": {},
   "outputs": [],
   "source": [
    "dic1[9.13] = 'Python'"
   ]
  },
  {
   "cell_type": "code",
   "execution_count": null,
   "id": "d8a37f33",
   "metadata": {},
   "outputs": [],
   "source": [
    "dic1"
   ]
  },
  {
   "cell_type": "code",
   "execution_count": null,
   "id": "d1b2e5e7",
   "metadata": {},
   "outputs": [],
   "source": [
    "dic1['teste'] = 5"
   ]
  },
  {
   "cell_type": "code",
   "execution_count": null,
   "id": "8b6bd194",
   "metadata": {},
   "outputs": [],
   "source": [
    "dic1"
   ]
  },
  {
   "cell_type": "code",
   "execution_count": null,
   "id": "f44a8166",
   "metadata": {},
   "outputs": [],
   "source": [
    "dic2 = {}"
   ]
  },
  {
   "cell_type": "code",
   "execution_count": null,
   "id": "05bfafca",
   "metadata": {},
   "outputs": [],
   "source": [
    "dic2['teste'] = 10"
   ]
  },
  {
   "cell_type": "code",
   "execution_count": null,
   "id": "3886432f",
   "metadata": {},
   "outputs": [],
   "source": [
    "dic2['key'] = 'teste'"
   ]
  },
  {
   "cell_type": "code",
   "execution_count": null,
   "id": "4b58e9b2",
   "metadata": {},
   "outputs": [],
   "source": [
    "dic2"
   ]
  },
  {
   "cell_type": "code",
   "execution_count": null,
   "id": "9d9a65ab",
   "metadata": {},
   "outputs": [],
   "source": [
    "dic3 = {}"
   ]
  },
  {
   "cell_type": "code",
   "execution_count": null,
   "id": "ce441c8e",
   "metadata": {},
   "outputs": [],
   "source": [
    "dic3['key1'] = 'Data Science'"
   ]
  },
  {
   "cell_type": "code",
   "execution_count": null,
   "id": "9db7eb5d",
   "metadata": {},
   "outputs": [],
   "source": [
    "dic3['key2'] = 10"
   ]
  },
  {
   "cell_type": "code",
   "execution_count": null,
   "id": "3004b31a",
   "metadata": {},
   "outputs": [],
   "source": [
    "dic3['key3'] = 100"
   ]
  },
  {
   "cell_type": "code",
   "execution_count": null,
   "id": "7e44d558",
   "metadata": {},
   "outputs": [],
   "source": [
    "dic3"
   ]
  },
  {
   "cell_type": "code",
   "execution_count": null,
   "id": "2ec93eb6",
   "metadata": {},
   "outputs": [],
   "source": [
    "a = dic3['key1']"
   ]
  },
  {
   "cell_type": "code",
   "execution_count": null,
   "id": "2fcafe18",
   "metadata": {},
   "outputs": [],
   "source": [
    "b = dic3['key2']"
   ]
  },
  {
   "cell_type": "code",
   "execution_count": null,
   "id": "6e06697c",
   "metadata": {},
   "outputs": [],
   "source": [
    "c = dic3['key3']"
   ]
  },
  {
   "cell_type": "code",
   "execution_count": null,
   "id": "927e076d",
   "metadata": {},
   "outputs": [],
   "source": [
    "a"
   ]
  },
  {
   "cell_type": "code",
   "execution_count": null,
   "id": "1bfa25b5",
   "metadata": {},
   "outputs": [],
   "source": [
    "b"
   ]
  },
  {
   "cell_type": "code",
   "execution_count": null,
   "id": "d4b949f2",
   "metadata": {},
   "outputs": [],
   "source": [
    "c"
   ]
  },
  {
   "cell_type": "code",
   "execution_count": null,
   "id": "700d57c1",
   "metadata": {},
   "outputs": [],
   "source": [
    "#dicionário de listas\n",
    "dic4 = {'chave1': 1230, 'chave2':[22,453,73.4], 'chave3':['picanha', 'fraldinha', 'alcatra']}"
   ]
  },
  {
   "cell_type": "code",
   "execution_count": null,
   "id": "ae882eb2",
   "metadata": {},
   "outputs": [],
   "source": [
    "dic4"
   ]
  },
  {
   "cell_type": "code",
   "execution_count": null,
   "id": "95989834",
   "metadata": {},
   "outputs": [],
   "source": [
    "dic4['chave2']"
   ]
  },
  {
   "cell_type": "code",
   "execution_count": null,
   "id": "e133afe9",
   "metadata": {},
   "outputs": [],
   "source": [
    "#Acessando um item da lista dentro do dicionário\n",
    "dic4['chave3'][0].upper()"
   ]
  },
  {
   "cell_type": "code",
   "execution_count": null,
   "id": "f751d9b0",
   "metadata": {},
   "outputs": [],
   "source": [
    "var1 = dic4['chave2'][0] - 2"
   ]
  },
  {
   "cell_type": "code",
   "execution_count": null,
   "id": "77285309",
   "metadata": {},
   "outputs": [],
   "source": [
    "var1"
   ]
  },
  {
   "cell_type": "code",
   "execution_count": null,
   "id": "e3a44b7b",
   "metadata": {},
   "outputs": [],
   "source": [
    "#duas operações em uma linha -=\n",
    "dic4['chave2'][0] -= 2"
   ]
  },
  {
   "cell_type": "code",
   "execution_count": null,
   "id": "1256dfc6",
   "metadata": {},
   "outputs": [],
   "source": [
    "dic4"
   ]
  },
  {
   "cell_type": "markdown",
   "id": "0731e012",
   "metadata": {},
   "source": [
    "### Criando dicionários aninhados"
   ]
  },
  {
   "cell_type": "code",
   "execution_count": null,
   "id": "fc86efd9",
   "metadata": {},
   "outputs": [],
   "source": [
    "dic_aninhado = {'key1':{'key2_aninhada':{'key3_aninhada':'dict aninhado em Python'}}}"
   ]
  },
  {
   "cell_type": "code",
   "execution_count": null,
   "id": "11c691bf",
   "metadata": {},
   "outputs": [],
   "source": [
    "dic_aninhado"
   ]
  },
  {
   "cell_type": "code",
   "execution_count": null,
   "id": "42c9635d",
   "metadata": {},
   "outputs": [],
   "source": [
    "dic_aninhado['key1']['key2_aninhada']['key3_aninhada']"
   ]
  },
  {
   "cell_type": "code",
   "execution_count": null,
   "id": "620b47f2",
   "metadata": {},
   "outputs": [],
   "source": [
    "dic_aninhado['key1']['key2_aninhada']"
   ]
  }
 ],
 "metadata": {
  "kernelspec": {
   "display_name": "Python 3 (ipykernel)",
   "language": "python",
   "name": "python3"
  },
  "language_info": {
   "codemirror_mode": {
    "name": "ipython",
    "version": 3
   },
   "file_extension": ".py",
   "mimetype": "text/x-python",
   "name": "python",
   "nbconvert_exporter": "python",
   "pygments_lexer": "ipython3",
   "version": "3.9.13"
  }
 },
 "nbformat": 4,
 "nbformat_minor": 5
}
