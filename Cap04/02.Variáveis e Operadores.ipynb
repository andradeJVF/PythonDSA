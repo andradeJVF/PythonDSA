{
 "cells": [
  {
   "cell_type": "markdown",
   "id": "b691cc9c",
   "metadata": {},
   "source": [
    "### Variáveis"
   ]
  },
  {
   "cell_type": "code",
   "execution_count": null,
   "id": "303bddef",
   "metadata": {},
   "outputs": [],
   "source": [
    "var_teste = 1"
   ]
  },
  {
   "cell_type": "code",
   "execution_count": null,
   "id": "ba163df5",
   "metadata": {},
   "outputs": [],
   "source": [
    "var_teste"
   ]
  },
  {
   "cell_type": "code",
   "execution_count": null,
   "id": "b5d4ffbb",
   "metadata": {},
   "outputs": [],
   "source": [
    "print(var_teste)"
   ]
  },
  {
   "cell_type": "code",
   "execution_count": null,
   "id": "a5ed8ee0",
   "metadata": {},
   "outputs": [],
   "source": [
    "var_teste = 2"
   ]
  },
  {
   "cell_type": "code",
   "execution_count": null,
   "id": "75805473",
   "metadata": {},
   "outputs": [],
   "source": [
    "var_teste"
   ]
  },
  {
   "cell_type": "code",
   "execution_count": null,
   "id": "07991496",
   "metadata": {},
   "outputs": [],
   "source": [
    "type(var_teste)"
   ]
  },
  {
   "cell_type": "code",
   "execution_count": null,
   "id": "2a2469a8",
   "metadata": {},
   "outputs": [],
   "source": [
    "var_teste = 9.5"
   ]
  },
  {
   "cell_type": "code",
   "execution_count": null,
   "id": "2f3a2e9b",
   "metadata": {},
   "outputs": [],
   "source": [
    "type(var_teste)"
   ]
  },
  {
   "cell_type": "code",
   "execution_count": null,
   "id": "4e1519bb",
   "metadata": {},
   "outputs": [],
   "source": [
    "x = 1"
   ]
  },
  {
   "cell_type": "code",
   "execution_count": null,
   "id": "9315a900",
   "metadata": {},
   "outputs": [],
   "source": [
    "x"
   ]
  },
  {
   "cell_type": "markdown",
   "id": "b48084e7",
   "metadata": {},
   "source": [
    "### Declaração múltipla"
   ]
  },
  {
   "cell_type": "code",
   "execution_count": null,
   "id": "7d2a0fdd",
   "metadata": {},
   "outputs": [],
   "source": [
    "pessoa1, pessoa2, pessoa3 = \"Maria\", \"Bob\", \"Pedro\""
   ]
  },
  {
   "cell_type": "code",
   "execution_count": null,
   "id": "d6ad2374",
   "metadata": {},
   "outputs": [],
   "source": [
    "pessoa1"
   ]
  },
  {
   "cell_type": "code",
   "execution_count": null,
   "id": "7eaa4433",
   "metadata": {},
   "outputs": [],
   "source": [
    "pessoa2"
   ]
  },
  {
   "cell_type": "code",
   "execution_count": null,
   "id": "876463b6",
   "metadata": {},
   "outputs": [],
   "source": [
    "pessoa3"
   ]
  },
  {
   "cell_type": "code",
   "execution_count": null,
   "id": "6f003da5",
   "metadata": {},
   "outputs": [],
   "source": [
    "fruta1 = fruta2 = fruta3 = 'Melância'"
   ]
  },
  {
   "cell_type": "code",
   "execution_count": null,
   "id": "5877273e",
   "metadata": {},
   "outputs": [],
   "source": [
    "fruta1"
   ]
  },
  {
   "cell_type": "code",
   "execution_count": null,
   "id": "ce9c8666",
   "metadata": {},
   "outputs": [],
   "source": [
    "fruta2"
   ]
  },
  {
   "cell_type": "markdown",
   "id": "67991e99",
   "metadata": {},
   "source": [
    "### Variáveis atribuidas a outras variáveis e Ordem dos operadores"
   ]
  },
  {
   "cell_type": "code",
   "execution_count": null,
   "id": "08b689bf",
   "metadata": {},
   "outputs": [],
   "source": [
    "largura = 2"
   ]
  },
  {
   "cell_type": "code",
   "execution_count": null,
   "id": "0ecbf7eb",
   "metadata": {},
   "outputs": [],
   "source": [
    "altura = 4"
   ]
  },
  {
   "cell_type": "code",
   "execution_count": null,
   "id": "e92410cb",
   "metadata": {},
   "outputs": [],
   "source": [
    "area = largura * altura"
   ]
  },
  {
   "cell_type": "code",
   "execution_count": null,
   "id": "bb5179ae",
   "metadata": {},
   "outputs": [],
   "source": [
    "area"
   ]
  },
  {
   "cell_type": "code",
   "execution_count": null,
   "id": "be2af545",
   "metadata": {},
   "outputs": [],
   "source": [
    "perimetro = 2 * largura + 2 * altura"
   ]
  },
  {
   "cell_type": "code",
   "execution_count": null,
   "id": "d2b1ca7f",
   "metadata": {},
   "outputs": [],
   "source": [
    "perimetro"
   ]
  },
  {
   "cell_type": "code",
   "execution_count": null,
   "id": "9af0113a",
   "metadata": {},
   "outputs": [],
   "source": [
    "idade1, idade2 = 25, 35"
   ]
  },
  {
   "cell_type": "code",
   "execution_count": null,
   "id": "79a6bfd6",
   "metadata": {},
   "outputs": [],
   "source": [
    "idade1 + idade2"
   ]
  },
  {
   "cell_type": "code",
   "execution_count": null,
   "id": "3bd45fd3",
   "metadata": {},
   "outputs": [],
   "source": [
    "idade2 - idade1"
   ]
  },
  {
   "cell_type": "code",
   "execution_count": null,
   "id": "134ca366",
   "metadata": {},
   "outputs": [],
   "source": [
    "idade2 *idade1"
   ]
  },
  {
   "cell_type": "code",
   "execution_count": null,
   "id": "c93f78c0",
   "metadata": {},
   "outputs": [],
   "source": [
    "idade2 / idade1"
   ]
  },
  {
   "cell_type": "code",
   "execution_count": null,
   "id": "3459d771",
   "metadata": {},
   "outputs": [],
   "source": [
    "idade2 % idade1"
   ]
  },
  {
   "cell_type": "markdown",
   "id": "c7f65210",
   "metadata": {},
   "source": [
    "### Concatenação de variáveis"
   ]
  },
  {
   "cell_type": "code",
   "execution_count": null,
   "id": "0c400f49",
   "metadata": {},
   "outputs": [],
   "source": [
    "nome, sobrenome = 'Bob', 'Marley'"
   ]
  },
  {
   "cell_type": "code",
   "execution_count": null,
   "id": "3061a6f2",
   "metadata": {},
   "outputs": [],
   "source": [
    "fullname = nome + ' ' + sobrenome"
   ]
  },
  {
   "cell_type": "code",
   "execution_count": null,
   "id": "f162edeb",
   "metadata": {},
   "outputs": [],
   "source": [
    "fullname"
   ]
  },
  {
   "cell_type": "code",
   "execution_count": null,
   "id": "e54c302d",
   "metadata": {},
   "outputs": [],
   "source": []
  }
 ],
 "metadata": {
  "kernelspec": {
   "display_name": "Python 3 (ipykernel)",
   "language": "python",
   "name": "python3"
  },
  "language_info": {
   "codemirror_mode": {
    "name": "ipython",
    "version": 3
   },
   "file_extension": ".py",
   "mimetype": "text/x-python",
   "name": "python",
   "nbconvert_exporter": "python",
   "pygments_lexer": "ipython3",
   "version": "3.9.13"
  }
 },
 "nbformat": 4,
 "nbformat_minor": 5
}
