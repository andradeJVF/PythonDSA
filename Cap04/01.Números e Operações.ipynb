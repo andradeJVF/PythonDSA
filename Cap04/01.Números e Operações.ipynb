{
 "cells": [
  {
   "cell_type": "markdown",
   "id": "e5be11fe",
   "metadata": {},
   "source": [
    "### Operações aritméticas"
   ]
  },
  {
   "cell_type": "code",
   "execution_count": null,
   "id": "4377a7dd",
   "metadata": {},
   "outputs": [],
   "source": [
    "#Soma\n",
    "2 + 2"
   ]
  },
  {
   "cell_type": "code",
   "execution_count": null,
   "id": "9a729119",
   "metadata": {},
   "outputs": [],
   "source": [
    "#Subtração\n",
    "4 - 2"
   ]
  },
  {
   "cell_type": "code",
   "execution_count": null,
   "id": "0eaed6cb",
   "metadata": {},
   "outputs": [],
   "source": [
    "#Multiplicação\n",
    "2 * 7"
   ]
  },
  {
   "cell_type": "code",
   "execution_count": null,
   "id": "5335bc2b",
   "metadata": {},
   "outputs": [],
   "source": [
    "#Divisão\n",
    "10 / 2"
   ]
  },
  {
   "cell_type": "code",
   "execution_count": null,
   "id": "6a583822",
   "metadata": {},
   "outputs": [],
   "source": [
    "#Potência ** ou função pow\n",
    "3 ** 2"
   ]
  },
  {
   "cell_type": "code",
   "execution_count": null,
   "id": "7d9c4a89",
   "metadata": {},
   "outputs": [],
   "source": [
    "#Módulo\n",
    "10 % 3"
   ]
  },
  {
   "cell_type": "markdown",
   "id": "83dcd59a",
   "metadata": {},
   "source": [
    "### Função Type"
   ]
  },
  {
   "cell_type": "code",
   "execution_count": null,
   "id": "27d36bba",
   "metadata": {},
   "outputs": [],
   "source": [
    "type(5)"
   ]
  },
  {
   "cell_type": "code",
   "execution_count": null,
   "id": "b682c63e",
   "metadata": {},
   "outputs": [],
   "source": [
    "type(5.0)"
   ]
  },
  {
   "cell_type": "code",
   "execution_count": null,
   "id": "dc6fc2c5",
   "metadata": {},
   "outputs": [],
   "source": [
    "a = 'Estou estudando Python'\n",
    "type(a)"
   ]
  },
  {
   "cell_type": "markdown",
   "id": "f7510441",
   "metadata": {},
   "source": [
    "### Operações com Números Float"
   ]
  },
  {
   "cell_type": "code",
   "execution_count": null,
   "id": "fe546d8c",
   "metadata": {},
   "outputs": [],
   "source": [
    "3.1 + 6.4"
   ]
  },
  {
   "cell_type": "code",
   "execution_count": null,
   "id": "59d74577",
   "metadata": {},
   "outputs": [],
   "source": [
    "4 + 4.0"
   ]
  },
  {
   "cell_type": "code",
   "execution_count": null,
   "id": "b45abbc4",
   "metadata": {},
   "outputs": [],
   "source": [
    "4 + 4"
   ]
  },
  {
   "cell_type": "code",
   "execution_count": null,
   "id": "fa86588e",
   "metadata": {},
   "outputs": [],
   "source": [
    "#Resultado é Float\n",
    "4 / 4"
   ]
  },
  {
   "cell_type": "code",
   "execution_count": null,
   "id": "d007ea61",
   "metadata": {},
   "outputs": [],
   "source": [
    "#Resultado é int\n",
    "4 // 4"
   ]
  },
  {
   "cell_type": "code",
   "execution_count": null,
   "id": "f00a8ebe",
   "metadata": {},
   "outputs": [],
   "source": [
    "4 / 3.0"
   ]
  },
  {
   "cell_type": "code",
   "execution_count": null,
   "id": "9fd79db1",
   "metadata": {},
   "outputs": [],
   "source": [
    "4 // 3.0"
   ]
  },
  {
   "cell_type": "markdown",
   "id": "160ef9e3",
   "metadata": {},
   "source": [
    "### Conversão"
   ]
  },
  {
   "cell_type": "code",
   "execution_count": null,
   "id": "4f07765a",
   "metadata": {},
   "outputs": [],
   "source": [
    "float(9)"
   ]
  },
  {
   "cell_type": "code",
   "execution_count": null,
   "id": "32b176fd",
   "metadata": {},
   "outputs": [],
   "source": [
    "int(6.0)"
   ]
  },
  {
   "cell_type": "code",
   "execution_count": null,
   "id": "3862a245",
   "metadata": {},
   "outputs": [],
   "source": [
    "int(6.9)"
   ]
  },
  {
   "cell_type": "markdown",
   "id": "a044e6c9",
   "metadata": {},
   "source": [
    "### Hexadecimal e Binário"
   ]
  },
  {
   "cell_type": "code",
   "execution_count": null,
   "id": "f12dd496",
   "metadata": {},
   "outputs": [],
   "source": [
    "hex(394)"
   ]
  },
  {
   "cell_type": "code",
   "execution_count": null,
   "id": "400f32d4",
   "metadata": {},
   "outputs": [],
   "source": [
    "hex(217)"
   ]
  },
  {
   "cell_type": "code",
   "execution_count": null,
   "id": "31b09533",
   "metadata": {},
   "outputs": [],
   "source": [
    "bin(286)"
   ]
  },
  {
   "cell_type": "code",
   "execution_count": null,
   "id": "949f1815",
   "metadata": {},
   "outputs": [],
   "source": [
    "bin(390)"
   ]
  },
  {
   "cell_type": "markdown",
   "id": "1a84e13a",
   "metadata": {},
   "source": [
    "### Funções abs, round e pow"
   ]
  },
  {
   "cell_type": "code",
   "execution_count": null,
   "id": "7fdd5fb8",
   "metadata": {},
   "outputs": [],
   "source": [
    "#Retorna o valor absoluto\n",
    "abs(-8)"
   ]
  },
  {
   "cell_type": "code",
   "execution_count": null,
   "id": "4f8cf53f",
   "metadata": {},
   "outputs": [],
   "source": [
    "#Retorna o valor absoluto\n",
    "abs(8)"
   ]
  },
  {
   "cell_type": "code",
   "execution_count": null,
   "id": "f83552ce",
   "metadata": {},
   "outputs": [],
   "source": [
    "#Retorna o valor com duas casas decimais\n",
    "round(3.14151922, 2)"
   ]
  },
  {
   "cell_type": "code",
   "execution_count": null,
   "id": "d6937457",
   "metadata": {},
   "outputs": [],
   "source": [
    "#Potência\n",
    "pow(4,2)"
   ]
  },
  {
   "cell_type": "code",
   "execution_count": null,
   "id": "dbb5d79b",
   "metadata": {},
   "outputs": [],
   "source": [
    "#Potência\n",
    "pow(5,2)"
   ]
  }
 ],
 "metadata": {
  "kernelspec": {
   "display_name": "Python 3 (ipykernel)",
   "language": "python",
   "name": "python3"
  },
  "language_info": {
   "codemirror_mode": {
    "name": "ipython",
    "version": 3
   },
   "file_extension": ".py",
   "mimetype": "text/x-python",
   "name": "python",
   "nbconvert_exporter": "python",
   "pygments_lexer": "ipython3",
   "version": "3.9.13"
  }
 },
 "nbformat": 4,
 "nbformat_minor": 5
}
