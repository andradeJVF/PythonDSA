{
 "cells": [
  {
   "cell_type": "markdown",
   "id": "8463e367",
   "metadata": {},
   "source": [
    "### Listas"
   ]
  },
  {
   "cell_type": "code",
   "execution_count": null,
   "id": "0a4144cb",
   "metadata": {},
   "outputs": [],
   "source": [
    "lista_1 = ['Arroz, frango, tomate, leite']"
   ]
  },
  {
   "cell_type": "code",
   "execution_count": null,
   "id": "072bbf88",
   "metadata": {},
   "outputs": [],
   "source": [
    "lista_1"
   ]
  },
  {
   "cell_type": "code",
   "execution_count": null,
   "id": "4df73333",
   "metadata": {},
   "outputs": [],
   "source": [
    "type(lista_1)"
   ]
  },
  {
   "cell_type": "code",
   "execution_count": null,
   "id": "6e75b933",
   "metadata": {},
   "outputs": [],
   "source": [
    "lista_2 = ['arroz', 'leite', 'tomate', 'frango']"
   ]
  },
  {
   "cell_type": "code",
   "execution_count": null,
   "id": "8bb2db1d",
   "metadata": {},
   "outputs": [],
   "source": [
    "lista_2"
   ]
  },
  {
   "cell_type": "code",
   "execution_count": null,
   "id": "3224e9f9",
   "metadata": {},
   "outputs": [],
   "source": [
    "type(lista_2)"
   ]
  },
  {
   "cell_type": "code",
   "execution_count": null,
   "id": "a7629714",
   "metadata": {},
   "outputs": [],
   "source": [
    "lista_2[1]"
   ]
  },
  {
   "cell_type": "code",
   "execution_count": null,
   "id": "981186b4",
   "metadata": {},
   "outputs": [],
   "source": [
    "lista_3 = [23, 100, 'dados']"
   ]
  },
  {
   "cell_type": "code",
   "execution_count": null,
   "id": "76e64a96",
   "metadata": {},
   "outputs": [],
   "source": [
    "type(lista_3)"
   ]
  },
  {
   "cell_type": "code",
   "execution_count": null,
   "id": "78302f4d",
   "metadata": {},
   "outputs": [],
   "source": [
    "lista_3"
   ]
  },
  {
   "cell_type": "code",
   "execution_count": null,
   "id": "eb595e45",
   "metadata": {},
   "outputs": [],
   "source": [
    "item1, item2, item3 = lista_3[0], lista_3[1], lista_3[2]"
   ]
  },
  {
   "cell_type": "code",
   "execution_count": null,
   "id": "cdf5fe5f",
   "metadata": {},
   "outputs": [],
   "source": [
    "item1"
   ]
  },
  {
   "cell_type": "code",
   "execution_count": null,
   "id": "94b8ab7e",
   "metadata": {},
   "outputs": [],
   "source": [
    "item2"
   ]
  },
  {
   "cell_type": "code",
   "execution_count": null,
   "id": "016b719b",
   "metadata": {},
   "outputs": [],
   "source": [
    "item3"
   ]
  },
  {
   "cell_type": "markdown",
   "id": "4bccdf7d",
   "metadata": {},
   "source": [
    "### Atualizando um item da lista"
   ]
  },
  {
   "cell_type": "code",
   "execution_count": null,
   "id": "12faad72",
   "metadata": {},
   "outputs": [],
   "source": [
    "lista_2[2]"
   ]
  },
  {
   "cell_type": "code",
   "execution_count": null,
   "id": "5653f075",
   "metadata": {},
   "outputs": [],
   "source": [
    "lista_2[2] = 'batata'"
   ]
  },
  {
   "cell_type": "code",
   "execution_count": null,
   "id": "3e1ff810",
   "metadata": {},
   "outputs": [],
   "source": [
    "lista_2[2]"
   ]
  },
  {
   "cell_type": "markdown",
   "id": "d5260c2c",
   "metadata": {},
   "source": [
    "### Deletando um item da lista"
   ]
  },
  {
   "cell_type": "code",
   "execution_count": null,
   "id": "7926d64c",
   "metadata": {},
   "outputs": [],
   "source": [
    "del lista_2[2]"
   ]
  },
  {
   "cell_type": "code",
   "execution_count": null,
   "id": "9a1f4ed8",
   "metadata": {},
   "outputs": [],
   "source": [
    "lista_2[2]"
   ]
  },
  {
   "cell_type": "markdown",
   "id": "1cdcb5b5",
   "metadata": {},
   "source": [
    "### Listas aninhadas"
   ]
  },
  {
   "cell_type": "code",
   "execution_count": null,
   "id": "19b37d69",
   "metadata": {},
   "outputs": [],
   "source": [
    "listas = [[1,2,3], [4,5,6], [7,8,9]]"
   ]
  },
  {
   "cell_type": "code",
   "execution_count": null,
   "id": "ce7f7306",
   "metadata": {},
   "outputs": [],
   "source": [
    "print(listas)"
   ]
  },
  {
   "cell_type": "code",
   "execution_count": null,
   "id": "d696675e",
   "metadata": {},
   "outputs": [],
   "source": [
    "a = listas[0]"
   ]
  },
  {
   "cell_type": "code",
   "execution_count": null,
   "id": "55258ede",
   "metadata": {},
   "outputs": [],
   "source": [
    "a"
   ]
  },
  {
   "cell_type": "code",
   "execution_count": null,
   "id": "742b2a19",
   "metadata": {},
   "outputs": [],
   "source": [
    "b =a[0]"
   ]
  },
  {
   "cell_type": "code",
   "execution_count": null,
   "id": "ea20bbfa",
   "metadata": {},
   "outputs": [],
   "source": [
    "b"
   ]
  },
  {
   "cell_type": "code",
   "execution_count": null,
   "id": "36166340",
   "metadata": {},
   "outputs": [],
   "source": [
    "list1 = listas[1]"
   ]
  },
  {
   "cell_type": "code",
   "execution_count": null,
   "id": "3122ba92",
   "metadata": {},
   "outputs": [],
   "source": [
    "list1"
   ]
  },
  {
   "cell_type": "code",
   "execution_count": null,
   "id": "047d9dff",
   "metadata": {},
   "outputs": [],
   "source": [
    "valor_1_0 = list1[0]"
   ]
  },
  {
   "cell_type": "code",
   "execution_count": null,
   "id": "478fb7da",
   "metadata": {},
   "outputs": [],
   "source": [
    "valor_1_0"
   ]
  },
  {
   "cell_type": "code",
   "execution_count": null,
   "id": "a3e93e48",
   "metadata": {},
   "outputs": [],
   "source": []
  }
 ],
 "metadata": {
  "kernelspec": {
   "display_name": "Python 3 (ipykernel)",
   "language": "python",
   "name": "python3"
  },
  "language_info": {
   "codemirror_mode": {
    "name": "ipython",
    "version": 3
   },
   "file_extension": ".py",
   "mimetype": "text/x-python",
   "name": "python",
   "nbconvert_exporter": "python",
   "pygments_lexer": "ipython3",
   "version": "3.9.13"
  }
 },
 "nbformat": 4,
 "nbformat_minor": 5
}
