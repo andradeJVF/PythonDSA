{
 "cells": [
  {
   "cell_type": "markdown",
   "id": "8463e367",
   "metadata": {},
   "source": [
    "### Listas"
   ]
  },
  {
   "cell_type": "code",
   "execution_count": null,
   "id": "0a4144cb",
   "metadata": {},
   "outputs": [],
   "source": [
    "lista_1 = ['Arroz, frango, tomate, leite']"
   ]
  },
  {
   "cell_type": "code",
   "execution_count": null,
   "id": "072bbf88",
   "metadata": {},
   "outputs": [],
   "source": [
    "lista_1"
   ]
  },
  {
   "cell_type": "code",
   "execution_count": null,
   "id": "4df73333",
   "metadata": {},
   "outputs": [],
   "source": [
    "type(lista_1)"
   ]
  },
  {
   "cell_type": "code",
   "execution_count": null,
   "id": "6e75b933",
   "metadata": {},
   "outputs": [],
   "source": [
    "lista_2 = ['arroz', 'leite', 'tomate', 'frango']"
   ]
  },
  {
   "cell_type": "code",
   "execution_count": null,
   "id": "8bb2db1d",
   "metadata": {},
   "outputs": [],
   "source": [
    "lista_2"
   ]
  },
  {
   "cell_type": "code",
   "execution_count": null,
   "id": "3224e9f9",
   "metadata": {},
   "outputs": [],
   "source": [
    "type(lista_2)"
   ]
  },
  {
   "cell_type": "code",
   "execution_count": null,
   "id": "a7629714",
   "metadata": {},
   "outputs": [],
   "source": [
    "lista_2[1]"
   ]
  },
  {
   "cell_type": "code",
   "execution_count": null,
   "id": "981186b4",
   "metadata": {},
   "outputs": [],
   "source": [
    "lista_3 = [23, 100, 'dados']"
   ]
  },
  {
   "cell_type": "code",
   "execution_count": null,
   "id": "76e64a96",
   "metadata": {},
   "outputs": [],
   "source": [
    "type(lista_3)"
   ]
  },
  {
   "cell_type": "code",
   "execution_count": null,
   "id": "78302f4d",
   "metadata": {},
   "outputs": [],
   "source": [
    "lista_3"
   ]
  },
  {
   "cell_type": "code",
   "execution_count": null,
   "id": "eb595e45",
   "metadata": {},
   "outputs": [],
   "source": [
    "item1, item2, item3 = lista_3[0], lista_3[1], lista_3[2]"
   ]
  },
  {
   "cell_type": "code",
   "execution_count": null,
   "id": "cdf5fe5f",
   "metadata": {},
   "outputs": [],
   "source": [
    "item1"
   ]
  },
  {
   "cell_type": "code",
   "execution_count": null,
   "id": "94b8ab7e",
   "metadata": {},
   "outputs": [],
   "source": [
    "item2"
   ]
  },
  {
   "cell_type": "code",
   "execution_count": null,
   "id": "016b719b",
   "metadata": {},
   "outputs": [],
   "source": [
    "item3"
   ]
  },
  {
   "cell_type": "markdown",
   "id": "4bccdf7d",
   "metadata": {},
   "source": [
    "### Atualizando um item da lista"
   ]
  },
  {
   "cell_type": "code",
   "execution_count": null,
   "id": "12faad72",
   "metadata": {},
   "outputs": [],
   "source": [
    "lista_2[2]"
   ]
  },
  {
   "cell_type": "code",
   "execution_count": null,
   "id": "5653f075",
   "metadata": {},
   "outputs": [],
   "source": [
    "lista_2[2] = 'batata'"
   ]
  },
  {
   "cell_type": "code",
   "execution_count": null,
   "id": "3e1ff810",
   "metadata": {},
   "outputs": [],
   "source": [
    "lista_2[2]"
   ]
  },
  {
   "cell_type": "markdown",
   "id": "d5260c2c",
   "metadata": {},
   "source": [
    "### Deletando um item da lista"
   ]
  },
  {
   "cell_type": "code",
   "execution_count": null,
   "id": "7926d64c",
   "metadata": {},
   "outputs": [],
   "source": [
    "del lista_2[2]"
   ]
  },
  {
   "cell_type": "code",
   "execution_count": null,
   "id": "9a1f4ed8",
   "metadata": {},
   "outputs": [],
   "source": [
    "lista_2[2]"
   ]
  },
  {
   "cell_type": "markdown",
   "id": "1cdcb5b5",
   "metadata": {},
   "source": [
    "### Listas aninhadas"
   ]
  },
  {
   "cell_type": "code",
   "execution_count": null,
   "id": "19b37d69",
   "metadata": {},
   "outputs": [],
   "source": [
    "listas = [[1,2,3], [4,5,6], [7,8,9]]"
   ]
  },
  {
   "cell_type": "code",
   "execution_count": null,
   "id": "ce7f7306",
   "metadata": {},
   "outputs": [],
   "source": [
    "print(listas)"
   ]
  },
  {
   "cell_type": "code",
   "execution_count": null,
   "id": "d696675e",
   "metadata": {},
   "outputs": [],
   "source": [
    "a = listas[0]"
   ]
  },
  {
   "cell_type": "code",
   "execution_count": null,
   "id": "55258ede",
   "metadata": {},
   "outputs": [],
   "source": [
    "a"
   ]
  },
  {
   "cell_type": "code",
   "execution_count": null,
   "id": "742b2a19",
   "metadata": {},
   "outputs": [],
   "source": [
    "b =a[0]"
   ]
  },
  {
   "cell_type": "code",
   "execution_count": null,
   "id": "ea20bbfa",
   "metadata": {},
   "outputs": [],
   "source": [
    "b"
   ]
  },
  {
   "cell_type": "code",
   "execution_count": null,
   "id": "36166340",
   "metadata": {},
   "outputs": [],
   "source": [
    "list1 = listas[1]"
   ]
  },
  {
   "cell_type": "code",
   "execution_count": null,
   "id": "3122ba92",
   "metadata": {},
   "outputs": [],
   "source": [
    "list1"
   ]
  },
  {
   "cell_type": "code",
   "execution_count": null,
   "id": "047d9dff",
   "metadata": {},
   "outputs": [],
   "source": [
    "valor_1_0 = list1[0]"
   ]
  },
  {
   "cell_type": "code",
   "execution_count": null,
   "id": "478fb7da",
   "metadata": {},
   "outputs": [],
   "source": [
    "valor_1_0"
   ]
  },
  {
   "cell_type": "markdown",
   "id": "88a91e43",
   "metadata": {},
   "source": [
    "### Operações com listas"
   ]
  },
  {
   "cell_type": "code",
   "execution_count": null,
   "id": "a3c8b6cc",
   "metadata": {},
   "outputs": [],
   "source": [
    "listas = [[1,2,3], [4,5,6], [7,8,9]]"
   ]
  },
  {
   "cell_type": "code",
   "execution_count": null,
   "id": "69dc423c",
   "metadata": {},
   "outputs": [],
   "source": [
    "a = listas[0][0]"
   ]
  },
  {
   "cell_type": "code",
   "execution_count": null,
   "id": "a6777f4a",
   "metadata": {},
   "outputs": [],
   "source": [
    "a"
   ]
  },
  {
   "cell_type": "code",
   "execution_count": null,
   "id": "9682f8a6",
   "metadata": {},
   "outputs": [],
   "source": [
    "b = listas[1][2]"
   ]
  },
  {
   "cell_type": "code",
   "execution_count": null,
   "id": "e584f5d1",
   "metadata": {},
   "outputs": [],
   "source": [
    "b"
   ]
  },
  {
   "cell_type": "code",
   "execution_count": null,
   "id": "55d89b08",
   "metadata": {},
   "outputs": [],
   "source": [
    "c = listas[0][2] + 10"
   ]
  },
  {
   "cell_type": "code",
   "execution_count": null,
   "id": "c3ebdcbf",
   "metadata": {},
   "outputs": [],
   "source": [
    "c"
   ]
  },
  {
   "cell_type": "code",
   "execution_count": null,
   "id": "31efa57e",
   "metadata": {},
   "outputs": [],
   "source": [
    "d = 10"
   ]
  },
  {
   "cell_type": "code",
   "execution_count": null,
   "id": "fe1a66a4",
   "metadata": {},
   "outputs": [],
   "source": [
    "d"
   ]
  },
  {
   "cell_type": "code",
   "execution_count": null,
   "id": "387126c6",
   "metadata": {},
   "outputs": [],
   "source": [
    "e = d * listas[2][0]"
   ]
  },
  {
   "cell_type": "code",
   "execution_count": null,
   "id": "29199180",
   "metadata": {},
   "outputs": [],
   "source": [
    "e"
   ]
  },
  {
   "cell_type": "markdown",
   "id": "c010e8a9",
   "metadata": {},
   "source": [
    "### Concatenando listas"
   ]
  },
  {
   "cell_type": "code",
   "execution_count": null,
   "id": "55deb498",
   "metadata": {},
   "outputs": [],
   "source": [
    "lista_s1 = [34, 32, 56]"
   ]
  },
  {
   "cell_type": "code",
   "execution_count": null,
   "id": "ad47a95d",
   "metadata": {},
   "outputs": [],
   "source": [
    "lista_s1"
   ]
  },
  {
   "cell_type": "code",
   "execution_count": null,
   "id": "18bb0864",
   "metadata": {},
   "outputs": [],
   "source": [
    "lista_s2 = [21, 90, 51]"
   ]
  },
  {
   "cell_type": "code",
   "execution_count": null,
   "id": "9f4812ff",
   "metadata": {},
   "outputs": [],
   "source": [
    "lista_s2"
   ]
  },
  {
   "cell_type": "code",
   "execution_count": null,
   "id": "ab112778",
   "metadata": {},
   "outputs": [],
   "source": [
    "lista_total = lista_s1 + lista_s2"
   ]
  },
  {
   "cell_type": "code",
   "execution_count": null,
   "id": "8b45d222",
   "metadata": {},
   "outputs": [],
   "source": [
    "lista_total"
   ]
  },
  {
   "cell_type": "markdown",
   "id": "372990d5",
   "metadata": {},
   "source": [
    "### Operador in"
   ]
  },
  {
   "cell_type": "code",
   "execution_count": null,
   "id": "61c58bfc",
   "metadata": {},
   "outputs": [],
   "source": [
    "lista_teste = [100, 2, -5, 3.4]"
   ]
  },
  {
   "cell_type": "code",
   "execution_count": null,
   "id": "aeb6a5fe",
   "metadata": {},
   "outputs": [],
   "source": [
    "#verifica se o valor consta na lista\n",
    "print(10 in lista_teste)"
   ]
  },
  {
   "cell_type": "code",
   "execution_count": null,
   "id": "be583ed9",
   "metadata": {},
   "outputs": [],
   "source": [
    "print(100 in lista_teste)"
   ]
  },
  {
   "cell_type": "markdown",
   "id": "7f2f262b",
   "metadata": {},
   "source": [
    "### Funções built-in"
   ]
  },
  {
   "cell_type": "code",
   "execution_count": null,
   "id": "1bdd91aa",
   "metadata": {},
   "outputs": [],
   "source": [
    "numeros = [10, 20, 50, -3.4]"
   ]
  },
  {
   "cell_type": "code",
   "execution_count": null,
   "id": "3ff1ae47",
   "metadata": {},
   "outputs": [],
   "source": [
    "#len retorna o tamanho da lista\n",
    "len(numeros)"
   ]
  },
  {
   "cell_type": "code",
   "execution_count": null,
   "id": "4f0d1220",
   "metadata": {},
   "outputs": [],
   "source": [
    "max(numeros)"
   ]
  },
  {
   "cell_type": "code",
   "execution_count": null,
   "id": "11011eaa",
   "metadata": {},
   "outputs": [],
   "source": [
    "min(numeros)"
   ]
  },
  {
   "cell_type": "code",
   "execution_count": null,
   "id": "24948ff3",
   "metadata": {},
   "outputs": [],
   "source": [
    "formacoes = ['Analista de Dados', 'Cientista de Dados', 'Engenheiro de Dados']"
   ]
  },
  {
   "cell_type": "code",
   "execution_count": null,
   "id": "36fb45e8",
   "metadata": {},
   "outputs": [],
   "source": [
    "#append adiciona um valor à lista\n",
    "formacoes.append('Engenheiro de IA')"
   ]
  },
  {
   "cell_type": "code",
   "execution_count": null,
   "id": "d7ac908e",
   "metadata": {},
   "outputs": [],
   "source": [
    "formacoes"
   ]
  },
  {
   "cell_type": "code",
   "execution_count": null,
   "id": "be7f24b5",
   "metadata": {},
   "outputs": [],
   "source": [
    "formacoes.count('Engenheiro de IA')"
   ]
  },
  {
   "cell_type": "code",
   "execution_count": null,
   "id": "e0ea3065",
   "metadata": {},
   "outputs": [],
   "source": [
    "a = []"
   ]
  },
  {
   "cell_type": "code",
   "execution_count": null,
   "id": "1ea62ce7",
   "metadata": {},
   "outputs": [],
   "source": [
    "print(a)"
   ]
  },
  {
   "cell_type": "code",
   "execution_count": null,
   "id": "677e626f",
   "metadata": {},
   "outputs": [],
   "source": [
    "type(a)"
   ]
  },
  {
   "cell_type": "code",
   "execution_count": null,
   "id": "2d6c5459",
   "metadata": {},
   "outputs": [],
   "source": [
    "a.append(10)"
   ]
  },
  {
   "cell_type": "code",
   "execution_count": null,
   "id": "ced40e37",
   "metadata": {},
   "outputs": [],
   "source": [
    "a"
   ]
  },
  {
   "cell_type": "code",
   "execution_count": null,
   "id": "5857f961",
   "metadata": {},
   "outputs": [],
   "source": [
    "a.append(50)"
   ]
  },
  {
   "cell_type": "code",
   "execution_count": null,
   "id": "5b9c817f",
   "metadata": {},
   "outputs": [],
   "source": [
    "a"
   ]
  },
  {
   "cell_type": "code",
   "execution_count": null,
   "id": "6031c5f9",
   "metadata": {},
   "outputs": [],
   "source": [
    "old_list = [1,2,5,10]"
   ]
  },
  {
   "cell_type": "code",
   "execution_count": null,
   "id": "f3a7f6e1",
   "metadata": {},
   "outputs": [],
   "source": [
    "new_list = []"
   ]
  },
  {
   "cell_type": "code",
   "execution_count": null,
   "id": "78f1ef88",
   "metadata": {},
   "outputs": [],
   "source": [
    "for item in old_list:\n",
    "    new_list.append(item)"
   ]
  },
  {
   "cell_type": "code",
   "execution_count": null,
   "id": "2adcc398",
   "metadata": {},
   "outputs": [],
   "source": [
    "new_list"
   ]
  },
  {
   "cell_type": "code",
   "execution_count": null,
   "id": "d5409d5c",
   "metadata": {},
   "outputs": [],
   "source": [
    "cidades = ['Recife', 'Manaus', 'Salvador']\n",
    "cidades.extend(['Fortaleza', 'Palmas'])\n",
    "print(cidades)"
   ]
  },
  {
   "cell_type": "code",
   "execution_count": null,
   "id": "435bfb37",
   "metadata": {},
   "outputs": [],
   "source": [
    "cidades.index('Salvador')"
   ]
  },
  {
   "cell_type": "code",
   "execution_count": null,
   "id": "fb5b58aa",
   "metadata": {},
   "outputs": [],
   "source": [
    "cidades.index('Rio de Janeiro')"
   ]
  },
  {
   "cell_type": "code",
   "execution_count": null,
   "id": "9cdf5e87",
   "metadata": {},
   "outputs": [],
   "source": [
    "cidades"
   ]
  },
  {
   "cell_type": "code",
   "execution_count": null,
   "id": "9943aa43",
   "metadata": {},
   "outputs": [],
   "source": [
    "#substitui um item da lista\n",
    "cidades.insert(2, 110)"
   ]
  },
  {
   "cell_type": "code",
   "execution_count": null,
   "id": "b0bbf960",
   "metadata": {},
   "outputs": [],
   "source": [
    "cidades"
   ]
  },
  {
   "cell_type": "code",
   "execution_count": null,
   "id": "7494063c",
   "metadata": {},
   "outputs": [],
   "source": [
    "    cidades.remove(110)"
   ]
  },
  {
   "cell_type": "code",
   "execution_count": null,
   "id": "8e0d17f8",
   "metadata": {},
   "outputs": [],
   "source": [
    "cidades"
   ]
  },
  {
   "cell_type": "code",
   "execution_count": null,
   "id": "8087ce23",
   "metadata": {},
   "outputs": [],
   "source": [
    "#inverte os valores da lista\n",
    "cidades.reverse()"
   ]
  },
  {
   "cell_type": "code",
   "execution_count": null,
   "id": "708ac52d",
   "metadata": {},
   "outputs": [],
   "source": [
    "cidades"
   ]
  },
  {
   "cell_type": "code",
   "execution_count": null,
   "id": "fa0e6a45",
   "metadata": {},
   "outputs": [],
   "source": [
    "x = [3,4,2,1]"
   ]
  },
  {
   "cell_type": "code",
   "execution_count": null,
   "id": "6515209e",
   "metadata": {},
   "outputs": [],
   "source": [
    "x.sort()"
   ]
  },
  {
   "cell_type": "code",
   "execution_count": null,
   "id": "927cc358",
   "metadata": {},
   "outputs": [],
   "source": [
    "x"
   ]
  },
  {
   "cell_type": "code",
   "execution_count": null,
   "id": "a19457fa",
   "metadata": {},
   "outputs": [],
   "source": []
  }
 ],
 "metadata": {
  "kernelspec": {
   "display_name": "Python 3 (ipykernel)",
   "language": "python",
   "name": "python3"
  },
  "language_info": {
   "codemirror_mode": {
    "name": "ipython",
    "version": 3
   },
   "file_extension": ".py",
   "mimetype": "text/x-python",
   "name": "python",
   "nbconvert_exporter": "python",
   "pygments_lexer": "ipython3",
   "version": "3.9.13"
  }
 },
 "nbformat": 4,
 "nbformat_minor": 5
}
