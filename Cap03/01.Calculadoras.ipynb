{
 "cells": [
  {
   "cell_type": "code",
   "execution_count": 6,
   "id": "1c56d737",
   "metadata": {},
   "outputs": [
    {
     "name": "stdout",
     "output_type": "stream",
     "text": [
      "Bem-vindo ao Calculador de Paralelogramo!\n",
      "Insira o valor da base: 10\n",
      "Insira o valor da altura: 5\n",
      "A área do Paralelogramo informado é: 50.0 cm!\n"
     ]
    }
   ],
   "source": [
    "print('Bem-vindo ao Calculador de Paralelogramo!')\n",
    "base = float(input('Insira o valor da base: '))\n",
    "altura = float(input('Insira o valor da altura: '))\n",
    "area = base * altura\n",
    "print('A área do Paralelogramo informado é:',area,'cm!')"
   ]
  },
  {
   "cell_type": "code",
   "execution_count": 10,
   "id": "9f26dc2f",
   "metadata": {},
   "outputs": [
    {
     "name": "stdout",
     "output_type": "stream",
     "text": [
      "Bem-vindo a Calculadora Simples!\n",
      "Digite o primeiro número: 10\n",
      "Digite o segundo número: 2\n",
      "Vamos aos resultados!\n",
      "A soma de 10.0 + 2.0 é: 12.0\n",
      "A subtração de 10.0 - 2.0 é: 8.0\n",
      "A multiplicação de 10.0 * 2.0 é: 20.0\n",
      "A divisão de 10.0 / 2.0 é: 5.0\n"
     ]
    }
   ],
   "source": [
    "print('Bem-vindo a Calculadora Simples!')\n",
    "primeiro = float(input('Digite o primeiro número: '))\n",
    "segundo = float(input('Digite o segundo número: '))\n",
    "soma = primeiro + segundo\n",
    "sub = primeiro - segundo\n",
    "multi = primeiro * segundo\n",
    "div = primeiro / segundo\n",
    "print('Vamos aos resultados!')\n",
    "print('A soma de', primeiro, '+',segundo, 'é:',soma)\n",
    "print('A subtração de', primeiro, '-',segundo, 'é:',sub)\n",
    "print('A multiplicação de', primeiro, '*',segundo, 'é:',multi)\n",
    "print('A divisão de', primeiro, '/',segundo, 'é:',div)"
   ]
  },
  {
   "cell_type": "code",
   "execution_count": 27,
   "id": "ed6834ca",
   "metadata": {},
   "outputs": [
    {
     "name": "stdout",
     "output_type": "stream",
     "text": [
      "Bem-vindo a Calculadora Simples!\n",
      "\n",
      "Digite o primeiro número: 10\n",
      "Digite o segundo número: teste\n"
     ]
    },
    {
     "ename": "ValueError",
     "evalue": "could not convert string to float: 'teste'",
     "output_type": "error",
     "traceback": [
      "\u001b[1;31m---------------------------------------------------------------------------\u001b[0m",
      "\u001b[1;31mValueError\u001b[0m                                Traceback (most recent call last)",
      "\u001b[1;32m~\\AppData\\Local\\Temp\\ipykernel_22632\\1851517342.py\u001b[0m in \u001b[0;36m<module>\u001b[1;34m\u001b[0m\n\u001b[0;32m      1\u001b[0m \u001b[0mprint\u001b[0m\u001b[1;33m(\u001b[0m\u001b[1;34m'Bem-vindo a Calculadora Simples!'\u001b[0m\u001b[1;33m)\u001b[0m\u001b[1;33m\u001b[0m\u001b[1;33m\u001b[0m\u001b[0m\n\u001b[0;32m      2\u001b[0m \u001b[0mnum1\u001b[0m \u001b[1;33m=\u001b[0m \u001b[0mfloat\u001b[0m\u001b[1;33m(\u001b[0m\u001b[0minput\u001b[0m\u001b[1;33m(\u001b[0m\u001b[1;34m'\\nDigite o primeiro número: '\u001b[0m\u001b[1;33m)\u001b[0m\u001b[1;33m)\u001b[0m\u001b[1;33m\u001b[0m\u001b[1;33m\u001b[0m\u001b[0m\n\u001b[1;32m----> 3\u001b[1;33m \u001b[0mnum2\u001b[0m \u001b[1;33m=\u001b[0m \u001b[0mfloat\u001b[0m\u001b[1;33m(\u001b[0m\u001b[0minput\u001b[0m\u001b[1;33m(\u001b[0m\u001b[1;34m'Digite o segundo número: '\u001b[0m\u001b[1;33m)\u001b[0m\u001b[1;33m)\u001b[0m\u001b[1;33m\u001b[0m\u001b[1;33m\u001b[0m\u001b[0m\n\u001b[0m\u001b[0;32m      4\u001b[0m \u001b[1;32mif\u001b[0m \u001b[0mnum2\u001b[0m \u001b[1;33m!=\u001b[0m \u001b[0mfloat\u001b[0m\u001b[1;33m:\u001b[0m\u001b[1;33m\u001b[0m\u001b[1;33m\u001b[0m\u001b[0m\n\u001b[0;32m      5\u001b[0m     \u001b[0mprint\u001b[0m\u001b[1;33m(\u001b[0m\u001b[1;34m'\\nValor inválido!'\u001b[0m\u001b[1;33m)\u001b[0m\u001b[1;33m\u001b[0m\u001b[1;33m\u001b[0m\u001b[0m\n",
      "\u001b[1;31mValueError\u001b[0m: could not convert string to float: 'teste'"
     ]
    }
   ],
   "source": [
    "print('Bem-vindo a Calculadora Simples!')\n",
    "num1 = float(input('\\nDigite o primeiro número: '))\n",
    "num2 = float(input('Digite o segundo número: '))\n",
    "operacao = input('Digite a operação (+, -, *, /): ')\n",
    "\n",
    "if operacao == '+':\n",
    "    soma = num1 + num2\n",
    "    print('\\nA soma de', num1, '+',num2, 'é:',soma)\n",
    "    \n",
    "elif operacao == '-':\n",
    "    sub = num1 - num2\n",
    "    print('\\nA subtração de', num1, '-',num2, 'é:',sub)\n",
    "\n",
    "elif operacao == '*':\n",
    "    multi = num1 * num2\n",
    "    print('\\nA multiplicação de', num1, '*',num2, 'é:',multi)\n",
    "    \n",
    "elif operacao == '/':\n",
    "    if num2 != 0:\n",
    "        div = num1 / num2\n",
    "        print('A divisão de', num1, '/',num2, 'é:',div)\n",
    "    else:\n",
    "        print('\\nNão é possível realizar divisão por 0 (zero)!')\n",
    "    \n",
    "else:\n",
    "    print('\\nOperação inválida!')"
   ]
  },
  {
   "cell_type": "code",
   "execution_count": null,
   "id": "cd83efce",
   "metadata": {},
   "outputs": [],
   "source": []
  }
 ],
 "metadata": {
  "language_info": {
   "codemirror_mode": {
    "name": "ipython",
    "version": 3
   },
   "file_extension": ".py",
   "mimetype": "text/x-python",
   "name": "python",
   "nbconvert_exporter": "python",
   "pygments_lexer": "ipython3",
   "version": "3.9.13"
  }
 },
 "nbformat": 4,
 "nbformat_minor": 5
}
