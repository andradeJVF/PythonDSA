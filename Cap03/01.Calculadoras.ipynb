{
 "cells": [
  {
   "cell_type": "code",
   "execution_count": null,
   "id": "1c56d737",
   "metadata": {},
   "outputs": [],
   "source": [
    "print('Bem-vindo ao Calculador de Paralelogramo!')\n",
    "base = float(input('Insira o valor da base: '))\n",
    "altura = float(input('Insira o valor da altura: '))\n",
    "area = base * altura\n",
    "print('A área do Paralelogramo informado é:',area,'cm!')"
   ]
  },
  {
   "cell_type": "code",
   "execution_count": null,
   "id": "9f26dc2f",
   "metadata": {},
   "outputs": [],
   "source": [
    "print('Bem-vindo a Calculadora Simples!')\n",
    "primeiro = float(input('Digite o primeiro número: '))\n",
    "segundo = float(input('Digite o segundo número: '))\n",
    "soma = primeiro + segundo\n",
    "sub = primeiro - segundo\n",
    "multi = primeiro * segundo\n",
    "div = primeiro / segundo\n",
    "print('Vamos aos resultados!')\n",
    "print('A soma de', primeiro, '+',segundo, 'é:',soma)\n",
    "print('A subtração de', primeiro, '-',segundo, 'é:',sub)\n",
    "print('A multiplicação de', primeiro, '*',segundo, 'é:',multi)\n",
    "print('A divisão de', primeiro, '/',segundo, 'é:',div)"
   ]
  },
  {
   "cell_type": "code",
   "execution_count": null,
   "id": "ed6834ca",
   "metadata": {},
   "outputs": [],
   "source": [
    "print('Bem-vindo a Calculadora Simples!')\n",
    "num1 = float(input('\\nDigite o primeiro número: '))\n",
    "num2 = float(input('Digite o segundo número: '))\n",
    "operacao = input('Digite a operação (+, -, *, /): ')\n",
    "\n",
    "if operacao == '+':\n",
    "    soma = num1 + num2\n",
    "    print('\\nA soma de', num1, '+',num2, 'é:',soma)\n",
    "    \n",
    "elif operacao == '-':\n",
    "    sub = num1 - num2\n",
    "    print('\\nA subtração de', num1, '-',num2, 'é:',sub)\n",
    "\n",
    "elif operacao == '*':\n",
    "    multi = num1 * num2\n",
    "    print('\\nA multiplicação de', num1, '*',num2, 'é:',multi)\n",
    "    \n",
    "elif operacao == '/':\n",
    "    if num2 != 0:\n",
    "        div = num1 / num2\n",
    "        print('A divisão de', num1, '/',num2, 'é:',div)\n",
    "    else:\n",
    "        print('\\nNão é possível realizar divisão por 0 (zero)!')\n",
    "    \n",
    "else:\n",
    "    print('\\nOperação inválida!')"
   ]
  },
  {
   "cell_type": "code",
   "execution_count": null,
   "id": "515ae1d2",
   "metadata": {},
   "outputs": [],
   "source": []
  }
 ],
 "metadata": {
  "kernelspec": {
   "display_name": "Python 3 (ipykernel)",
   "language": "python",
   "name": "python3"
  },
  "language_info": {
   "codemirror_mode": {
    "name": "ipython",
    "version": 3
   },
   "file_extension": ".py",
   "mimetype": "text/x-python",
   "name": "python",
   "nbconvert_exporter": "python",
   "pygments_lexer": "ipython3",
   "version": "3.9.13"
  }
 },
 "nbformat": 4,
 "nbformat_minor": 5
}
