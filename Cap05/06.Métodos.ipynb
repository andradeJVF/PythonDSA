{
 "cells": [
  {
   "cell_type": "markdown",
   "id": "fdd5b703",
   "metadata": {},
   "source": [
    "### Métodos"
   ]
  },
  {
   "cell_type": "code",
   "execution_count": null,
   "id": "7bc79d87",
   "metadata": {},
   "outputs": [],
   "source": [
    "lista = [100,-2,12,65,0]"
   ]
  },
  {
   "cell_type": "code",
   "execution_count": null,
   "id": "91148a1b",
   "metadata": {},
   "outputs": [],
   "source": [
    "type(lista)"
   ]
  },
  {
   "cell_type": "code",
   "execution_count": null,
   "id": "1763bf92",
   "metadata": {},
   "outputs": [],
   "source": [
    "lista.append(100)"
   ]
  },
  {
   "cell_type": "code",
   "execution_count": null,
   "id": "2696cb19",
   "metadata": {},
   "outputs": [],
   "source": [
    "print(lista)"
   ]
  },
  {
   "cell_type": "code",
   "execution_count": null,
   "id": "a322c68b",
   "metadata": {},
   "outputs": [],
   "source": [
    "lista.count(100)"
   ]
  },
  {
   "cell_type": "code",
   "execution_count": null,
   "id": "a12ab1b9",
   "metadata": {},
   "outputs": [],
   "source": [
    "help(lista.count)"
   ]
  },
  {
   "cell_type": "code",
   "execution_count": null,
   "id": "d2afeed2",
   "metadata": {},
   "outputs": [],
   "source": [
    "dir(lista)"
   ]
  },
  {
   "cell_type": "code",
   "execution_count": null,
   "id": "3f366a4c",
   "metadata": {},
   "outputs": [],
   "source": [
    "frase = 'Isso é uma String'"
   ]
  },
  {
   "cell_type": "code",
   "execution_count": null,
   "id": "89c229e3",
   "metadata": {},
   "outputs": [],
   "source": [
    "type(frase)"
   ]
  },
  {
   "cell_type": "code",
   "execution_count": null,
   "id": "4130109a",
   "metadata": {},
   "outputs": [],
   "source": [
    "frase"
   ]
  },
  {
   "cell_type": "code",
   "execution_count": null,
   "id": "94c81ed2",
   "metadata": {},
   "outputs": [],
   "source": [
    "print(frase.split())"
   ]
  },
  {
   "cell_type": "code",
   "execution_count": null,
   "id": "6af6d87a",
   "metadata": {},
   "outputs": [],
   "source": []
  }
 ],
 "metadata": {
  "kernelspec": {
   "display_name": "Python 3 (ipykernel)",
   "language": "python",
   "name": "python3"
  },
  "language_info": {
   "codemirror_mode": {
    "name": "ipython",
    "version": 3
   },
   "file_extension": ".py",
   "mimetype": "text/x-python",
   "name": "python",
   "nbconvert_exporter": "python",
   "pygments_lexer": "ipython3",
   "version": "3.9.13"
  }
 },
 "nbformat": 4,
 "nbformat_minor": 5
}
