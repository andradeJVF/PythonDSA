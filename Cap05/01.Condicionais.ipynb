{
 "cells": [
  {
   "cell_type": "markdown",
   "id": "bc395c77",
   "metadata": {},
   "source": [
    "### Condicional IF"
   ]
  },
  {
   "cell_type": "code",
   "execution_count": null,
   "id": "951d0826",
   "metadata": {},
   "outputs": [],
   "source": [
    "if 5 > 2:\n",
    "    print('A sentença é verdadeira')"
   ]
  },
  {
   "cell_type": "code",
   "execution_count": null,
   "id": "dc4e2783",
   "metadata": {},
   "outputs": [],
   "source": [
    "if 1 > 2:\n",
    "    print('A sentença é verdadeira')\n",
    "else:\n",
    "    print('A sentença é falsa')"
   ]
  },
  {
   "cell_type": "code",
   "execution_count": null,
   "id": "6a9c8a12",
   "metadata": {},
   "outputs": [],
   "source": [
    "dia = 'Terça'\n",
    "if dia == 'Segunda':\n",
    "    print('Hoje fará sol!')\n",
    "else:\n",
    "    print('Hoje vai chover!')"
   ]
  },
  {
   "cell_type": "code",
   "execution_count": null,
   "id": "6f22d896",
   "metadata": {},
   "outputs": [],
   "source": [
    "dia = 'Quarta'\n",
    "if dia == 'Segunda':\n",
    "    print('Hoje fará sol!')\n",
    "elif dia == 'Terça':\n",
    "    print('Hoje vai chover!')\n",
    "else:\n",
    "    print('Sem previsão de tempo!')"
   ]
  },
  {
   "cell_type": "markdown",
   "id": "4674815f",
   "metadata": {},
   "source": [
    "### Operadores relacionais"
   ]
  },
  {
   "cell_type": "code",
   "execution_count": null,
   "id": "e7748e24",
   "metadata": {},
   "outputs": [],
   "source": [
    "6 > 3"
   ]
  },
  {
   "cell_type": "code",
   "execution_count": null,
   "id": "376e1cff",
   "metadata": {},
   "outputs": [],
   "source": [
    "3 > 7"
   ]
  },
  {
   "cell_type": "code",
   "execution_count": null,
   "id": "98d4b5ec",
   "metadata": {},
   "outputs": [],
   "source": [
    "4 < 8"
   ]
  },
  {
   "cell_type": "code",
   "execution_count": null,
   "id": "a75f9bcc",
   "metadata": {},
   "outputs": [],
   "source": [
    "4 >= 4"
   ]
  },
  {
   "cell_type": "code",
   "execution_count": null,
   "id": "ad010aab",
   "metadata": {},
   "outputs": [],
   "source": [
    "if 5 == 5:\n",
    "    print('Números iguais!')"
   ]
  },
  {
   "cell_type": "code",
   "execution_count": null,
   "id": "e9f3a4ee",
   "metadata": {},
   "outputs": [],
   "source": [
    "if True:\n",
    "    print('Isso é verdade!')"
   ]
  },
  {
   "cell_type": "code",
   "execution_count": null,
   "id": "57db749e",
   "metadata": {},
   "outputs": [],
   "source": [
    "if 4 > 3:\n",
    "    print('Está certo também!')"
   ]
  },
  {
   "cell_type": "markdown",
   "id": "e7b9f3ba",
   "metadata": {},
   "source": [
    "### Condicionais aninhados"
   ]
  },
  {
   "cell_type": "code",
   "execution_count": null,
   "id": "e75d61d3",
   "metadata": {},
   "outputs": [],
   "source": [
    "idade = 18\n",
    "if idade > 17:\n",
    "    print('Você pode dirigir!')"
   ]
  },
  {
   "cell_type": "code",
   "execution_count": null,
   "id": "70d522e6",
   "metadata": {},
   "outputs": [],
   "source": [
    "nome = 'Bob'\n",
    "if idade > 17:\n",
    "    if nome == 'Bob':\n",
    "        print('Bob, você pode dirigir!')\n",
    "    else:\n",
    "        print('Você não pode dirigir!')"
   ]
  },
  {
   "cell_type": "code",
   "execution_count": null,
   "id": "c909107e",
   "metadata": {},
   "outputs": [],
   "source": [
    "idade = 13\n",
    "nome = 'Bob'\n",
    "if idade >= 13 and nome == 'Bob':\n",
    "    print('Você pode entrar!')"
   ]
  },
  {
   "cell_type": "code",
   "execution_count": null,
   "id": "87dbdd5e",
   "metadata": {},
   "outputs": [],
   "source": [
    "idade = 12\n",
    "nome = 'Pedro'\n",
    "if idade >= 13 or nome == 'Pedro':\n",
    "    print('Você pode entrar!')"
   ]
  }
 ],
 "metadata": {
  "kernelspec": {
   "display_name": "Python 3 (ipykernel)",
   "language": "python",
   "name": "python3"
  },
  "language_info": {
   "codemirror_mode": {
    "name": "ipython",
    "version": 3
   },
   "file_extension": ".py",
   "mimetype": "text/x-python",
   "name": "python",
   "nbconvert_exporter": "python",
   "pygments_lexer": "ipython3",
   "version": "3.9.13"
  }
 },
 "nbformat": 4,
 "nbformat_minor": 5
}
