{
 "cells": [
  {
   "cell_type": "markdown",
   "id": "b1b96081",
   "metadata": {},
   "source": [
    "### List Comprehension\n",
    "###### [Expressão for item in iterable if condição == true]"
   ]
  },
  {
   "cell_type": "code",
   "execution_count": null,
   "id": "69d1fc08",
   "metadata": {},
   "outputs": [],
   "source": [
    "[x for x in range(10)]"
   ]
  },
  {
   "cell_type": "code",
   "execution_count": null,
   "id": "24c677ec",
   "metadata": {},
   "outputs": [],
   "source": [
    "lista_numeros = [x for x in range(10)]"
   ]
  },
  {
   "cell_type": "code",
   "execution_count": null,
   "id": "a9cf8168",
   "metadata": {},
   "outputs": [],
   "source": [
    "lista_numeros"
   ]
  },
  {
   "cell_type": "code",
   "execution_count": null,
   "id": "357eed82",
   "metadata": {},
   "outputs": [],
   "source": [
    "lista_numeros = [x for x in range(10) if x <5]\n",
    "print(lista_numeros)"
   ]
  },
  {
   "cell_type": "code",
   "execution_count": null,
   "id": "39b0521f",
   "metadata": {},
   "outputs": [],
   "source": [
    "lista_frutas = ['banana','abacate','melancia','cereja','manga']\n",
    "nova_lista = []"
   ]
  },
  {
   "cell_type": "code",
   "execution_count": null,
   "id": "dcc822d4",
   "metadata": {},
   "outputs": [],
   "source": [
    "for x in lista_frutas:\n",
    "    if 'm' in x:\n",
    "        nova_lista.append(x.upper())\n",
    "print(nova_lista)"
   ]
  },
  {
   "cell_type": "code",
   "execution_count": null,
   "id": "cb6436a4",
   "metadata": {},
   "outputs": [],
   "source": [
    "nova_lista = [x for x in lista_frutas if 'b' in x]"
   ]
  },
  {
   "cell_type": "code",
   "execution_count": null,
   "id": "cc401b09",
   "metadata": {},
   "outputs": [],
   "source": [
    "print(nova_lista)"
   ]
  },
  {
   "cell_type": "code",
   "execution_count": null,
   "id": "ca194c0a",
   "metadata": {},
   "outputs": [],
   "source": [
    "dict_alunos = {'Bob': 68,'Michel': 84,'Zico': 57,'Ana': 93}\n",
    "\n",
    "dict_alunos_status = {k:v for (k, v) in dict_alunos.items()}\n",
    "print(dict_alunos_status)"
   ]
  },
  {
   "cell_type": "code",
   "execution_count": null,
   "id": "8fd44d12",
   "metadata": {},
   "outputs": [],
   "source": [
    "dict_alunos = {'Bob': 68,'Michel': 84,'Zico': 57,'Ana': 93}\n",
    "\n",
    "dict_alunos_status = {k: ('Aprovado' if v > 70 else 'Reprovado') for (k,v) in dict_alunos.items()}\n",
    "print(dict_alunos_status)"
   ]
  },
  {
   "cell_type": "code",
   "execution_count": null,
   "id": "3156e680",
   "metadata": {},
   "outputs": [],
   "source": []
  }
 ],
 "metadata": {
  "kernelspec": {
   "display_name": "Python 3 (ipykernel)",
   "language": "python",
   "name": "python3"
  },
  "language_info": {
   "codemirror_mode": {
    "name": "ipython",
    "version": 3
   },
   "file_extension": ".py",
   "mimetype": "text/x-python",
   "name": "python",
   "nbconvert_exporter": "python",
   "pygments_lexer": "ipython3",
   "version": "3.9.13"
  }
 },
 "nbformat": 4,
 "nbformat_minor": 5
}
