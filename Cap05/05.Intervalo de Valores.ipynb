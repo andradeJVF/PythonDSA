{
 "cells": [
  {
   "cell_type": "markdown",
   "id": "a6e3fd31",
   "metadata": {},
   "source": [
    "### Função Range"
   ]
  },
  {
   "cell_type": "code",
   "execution_count": null,
   "id": "eaca7255",
   "metadata": {},
   "outputs": [],
   "source": [
    "for i in range(1, 11):\n",
    "    print(i)"
   ]
  },
  {
   "cell_type": "code",
   "execution_count": null,
   "id": "702ebbe5",
   "metadata": {},
   "outputs": [],
   "source": [
    "for i in range(50, 101, 2):\n",
    "    print(i)"
   ]
  },
  {
   "cell_type": "code",
   "execution_count": null,
   "id": "584bdbd2",
   "metadata": {},
   "outputs": [],
   "source": [
    "for i in range(0, -21, -2):\n",
    "    print(i)"
   ]
  },
  {
   "cell_type": "code",
   "execution_count": null,
   "id": "7380e19b",
   "metadata": {},
   "outputs": [],
   "source": [
    "lista = ['Abacaxi', 'Banana', 'Morango', 'Manga']\n",
    "lista_tamanho = len(lista)\n",
    "for i in range(0, lista_tamanho):\n",
    "    print(lista[i])"
   ]
  },
  {
   "cell_type": "code",
   "execution_count": null,
   "id": "e314b7d0",
   "metadata": {},
   "outputs": [],
   "source": []
  }
 ],
 "metadata": {
  "kernelspec": {
   "display_name": "Python 3 (ipykernel)",
   "language": "python",
   "name": "python3"
  },
  "language_info": {
   "codemirror_mode": {
    "name": "ipython",
    "version": 3
   },
   "file_extension": ".py",
   "mimetype": "text/x-python",
   "name": "python",
   "nbconvert_exporter": "python",
   "pygments_lexer": "ipython3",
   "version": "3.9.13"
  }
 },
 "nbformat": 4,
 "nbformat_minor": 5
}
