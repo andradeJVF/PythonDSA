{
 "cells": [
  {
   "cell_type": "markdown",
   "id": "302a328b",
   "metadata": {},
   "source": [
    "### Operadores Lógicos"
   ]
  },
  {
   "cell_type": "code",
   "execution_count": null,
   "id": "f308367f",
   "metadata": {},
   "outputs": [],
   "source": [
    "idade = 18\n",
    "nome = 'Bob'\n",
    "if idade > 17:\n",
    "    print('Você pode dirigir!')"
   ]
  },
  {
   "cell_type": "code",
   "execution_count": null,
   "id": "3169b7fa",
   "metadata": {},
   "outputs": [],
   "source": [
    "if idade > 17 and nome == 'Bob':\n",
    "    print('Autorizado!')"
   ]
  },
  {
   "cell_type": "code",
   "execution_count": null,
   "id": "0426838b",
   "metadata": {},
   "outputs": [],
   "source": [
    "#Operador AND\n",
    "numero = 4\n",
    "if numero > 2 and numero % 2 == 0:\n",
    "    print('Isso está sendo impresso pois atendeu as condições!')"
   ]
  },
  {
   "cell_type": "code",
   "execution_count": null,
   "id": "b34f164e",
   "metadata": {},
   "outputs": [],
   "source": [
    "#Operador OR\n",
    "if numero > 5 or numero % 2 == 0:\n",
    "    print('Isso está sendo impresso pois 1 das condições foi atendida!')"
   ]
  },
  {
   "cell_type": "code",
   "execution_count": null,
   "id": "803f25ff",
   "metadata": {},
   "outputs": [],
   "source": [
    "#Operador NOT\n",
    "if not numero > 5 and numero % 2 == 0:\n",
    "    print('Isso está sendo impresso pois as condições foram atendidas!')\n",
    "else:\n",
    "    print('Isso está sendo impresso pois 1 das condições foi atendida!')"
   ]
  },
  {
   "cell_type": "code",
   "execution_count": null,
   "id": "0192a75b",
   "metadata": {},
   "outputs": [],
   "source": [
    "if (not(numero > 5) and (numero % 2 == 0)) or (numero == 4):\n",
    "    print('Isso está sendo impresso pois as duas primeiras condições são verdadeiras ou somente a terceira!')"
   ]
  },
  {
   "cell_type": "code",
   "execution_count": null,
   "id": "5bf31965",
   "metadata": {},
   "outputs": [],
   "source": [
    "disciplina = 'Data Science'\n",
    "nota = 70\n",
    "\n",
    "if disciplina == 'Data Science' and nota >= 70:\n",
    "    print('Você foi aprovado!')\n",
    "else:\n",
    "    print('Lamento, acho que você precisa estudar mais')"
   ]
  },
  {
   "cell_type": "code",
   "execution_count": null,
   "id": "1bec09c8",
   "metadata": {},
   "outputs": [],
   "source": [
    "disciplina = 'Data Science'\n",
    "nota = 60\n",
    "\n",
    "if disciplina == 'Data Science' and nota >= 70:\n",
    "    print('Você foi aprovado!')\n",
    "else:\n",
    "    print('Lamento, acho que você precisa estudar mais')"
   ]
  },
  {
   "cell_type": "code",
   "execution_count": null,
   "id": "b5e5ae10",
   "metadata": {},
   "outputs": [],
   "source": [
    "disciplina = 'Data Science'\n",
    "nota = 90\n",
    "semestre = 2\n",
    "\n",
    "if disciplina == 'Data Science' and nota >= 80 and semestre != 1:\n",
    "    #Placeholder %, utilizado para substituir valores por variáveis\n",
    "    print('Você foi aprovado em %s com média final %r!' %(disciplina, nota))\n",
    "else:\n",
    "    print('Lamento, acho que você precisa estudar mais')"
   ]
  },
  {
   "cell_type": "code",
   "execution_count": null,
   "id": "cf2945be",
   "metadata": {},
   "outputs": [],
   "source": []
  }
 ],
 "metadata": {
  "kernelspec": {
   "display_name": "Python 3 (ipykernel)",
   "language": "python",
   "name": "python3"
  },
  "language_info": {
   "codemirror_mode": {
    "name": "ipython",
    "version": 3
   },
   "file_extension": ".py",
   "mimetype": "text/x-python",
   "name": "python",
   "nbconvert_exporter": "python",
   "pygments_lexer": "ipython3",
   "version": "3.9.13"
  }
 },
 "nbformat": 4,
 "nbformat_minor": 5
}
