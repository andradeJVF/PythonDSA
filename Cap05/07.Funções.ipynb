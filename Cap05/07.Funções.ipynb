{
 "cells": [
  {
   "cell_type": "markdown",
   "id": "b1c27187",
   "metadata": {},
   "source": [
    "### Funções"
   ]
  },
  {
   "cell_type": "code",
   "execution_count": null,
   "id": "80a49c4b",
   "metadata": {},
   "outputs": [],
   "source": [
    "print('Hello, World!')"
   ]
  },
  {
   "cell_type": "code",
   "execution_count": null,
   "id": "af809aea",
   "metadata": {},
   "outputs": [],
   "source": [
    "def primeiraFunc():\n",
    "    print('Hello, World!')"
   ]
  },
  {
   "cell_type": "code",
   "execution_count": null,
   "id": "75f5032e",
   "metadata": {},
   "outputs": [],
   "source": [
    "primeiraFunc()"
   ]
  },
  {
   "cell_type": "code",
   "execution_count": null,
   "id": "39b46294",
   "metadata": {},
   "outputs": [],
   "source": [
    "def primeiraFunc():\n",
    "    nome = 'Bob'\n",
    "    print('Hello, %s!' %(nome))"
   ]
  },
  {
   "cell_type": "code",
   "execution_count": null,
   "id": "cc0363aa",
   "metadata": {},
   "outputs": [],
   "source": [
    "primeiraFunc()"
   ]
  },
  {
   "cell_type": "code",
   "execution_count": null,
   "id": "13d476d0",
   "metadata": {},
   "outputs": [],
   "source": [
    "def segundaFunc(nome):\n",
    "    print('Hello, %s' %(nome))"
   ]
  },
  {
   "cell_type": "code",
   "execution_count": null,
   "id": "3359841d",
   "metadata": {},
   "outputs": [],
   "source": [
    "segundaFunc('Aluno')"
   ]
  },
  {
   "cell_type": "code",
   "execution_count": null,
   "id": "f495121b",
   "metadata": {},
   "outputs": [],
   "source": [
    "def imprimeNumeros():\n",
    "    for i in range(0,5):\n",
    "        print('Número ' + str(i))"
   ]
  },
  {
   "cell_type": "code",
   "execution_count": null,
   "id": "8b612c8c",
   "metadata": {},
   "outputs": [],
   "source": [
    "imprimeNumeros()"
   ]
  },
  {
   "cell_type": "code",
   "execution_count": null,
   "id": "6835e076",
   "metadata": {},
   "outputs": [],
   "source": [
    "def addNum(firstNum, secondNum):\n",
    "    print('Primeiro número: ' + str(firstNum))\n",
    "    print('Segundo número: ' + str(secondNum))\n",
    "    print('Soma: ', firstNum + secondNum)"
   ]
  },
  {
   "cell_type": "code",
   "execution_count": null,
   "id": "c1910e8b",
   "metadata": {},
   "outputs": [],
   "source": [
    "addNum(1, 2)"
   ]
  },
  {
   "cell_type": "code",
   "execution_count": null,
   "id": "ab7fa806",
   "metadata": {},
   "outputs": [],
   "source": [
    "addNum(5, 17)"
   ]
  },
  {
   "cell_type": "code",
   "execution_count": null,
   "id": "6a28271c",
   "metadata": {},
   "outputs": [],
   "source": [
    "def printVarInfo(arg1, *vartuple): # *vartuple (tupla - lista de elementos imutáveis)\n",
    "    print('O parâmetro passado foi: ', arg1)\n",
    "    for item in vartuple:\n",
    "        print('O parâmetro passado foi: ', item)\n",
    "    return;"
   ]
  },
  {
   "cell_type": "code",
   "execution_count": null,
   "id": "77d7e3ee",
   "metadata": {},
   "outputs": [],
   "source": [
    "printVarInfo(10)"
   ]
  },
  {
   "cell_type": "code",
   "execution_count": null,
   "id": "3dba2480",
   "metadata": {},
   "outputs": [],
   "source": [
    "printVarInfo('Chocolate', 'Morango')"
   ]
  },
  {
   "cell_type": "code",
   "execution_count": null,
   "id": "15ad9464",
   "metadata": {},
   "outputs": [],
   "source": [
    "printVarInfo('Data', 'Science', 'Academy')"
   ]
  },
  {
   "cell_type": "markdown",
   "id": "e59790de",
   "metadata": {},
   "source": [
    "### Escopo de Variável - Local e Global"
   ]
  },
  {
   "cell_type": "code",
   "execution_count": null,
   "id": "4b25b004",
   "metadata": {},
   "outputs": [],
   "source": [
    "var_global = 10\n",
    "\n",
    "def multiplica_numeros(num1, num2):\n",
    "    var_global = num1 * num2\n",
    "    print(var_global)"
   ]
  },
  {
   "cell_type": "code",
   "execution_count": null,
   "id": "152e2307",
   "metadata": {},
   "outputs": [],
   "source": [
    "var_global"
   ]
  },
  {
   "cell_type": "code",
   "execution_count": null,
   "id": "d0750e3c",
   "metadata": {},
   "outputs": [],
   "source": [
    "multiplica_numeros(2, 4)"
   ]
  },
  {
   "cell_type": "code",
   "execution_count": null,
   "id": "1e20991c",
   "metadata": {},
   "outputs": [],
   "source": [
    "var_global = 10\n",
    "\n",
    "def multiplica_numeros(num1, num2):\n",
    "    var_local = num1 * num2\n",
    "    print(var_local)"
   ]
  },
  {
   "cell_type": "code",
   "execution_count": null,
   "id": "d240996f",
   "metadata": {},
   "outputs": [],
   "source": [
    "var_global"
   ]
  },
  {
   "cell_type": "code",
   "execution_count": null,
   "id": "037fad19",
   "metadata": {},
   "outputs": [],
   "source": [
    "multiplica_numeros(4, 5)"
   ]
  },
  {
   "cell_type": "markdown",
   "id": "d89f3a0f",
   "metadata": {},
   "source": [
    "### Funções Built-in"
   ]
  },
  {
   "cell_type": "code",
   "execution_count": null,
   "id": "309c250b",
   "metadata": {},
   "outputs": [],
   "source": [
    "abs(-56)"
   ]
  },
  {
   "cell_type": "code",
   "execution_count": null,
   "id": "871dbbb6",
   "metadata": {},
   "outputs": [],
   "source": [
    "abs(23)"
   ]
  },
  {
   "cell_type": "code",
   "execution_count": null,
   "id": "db865439",
   "metadata": {},
   "outputs": [],
   "source": [
    "bool(0)"
   ]
  },
  {
   "cell_type": "code",
   "execution_count": null,
   "id": "081d09ca",
   "metadata": {},
   "outputs": [],
   "source": [
    "bool(1)"
   ]
  },
  {
   "cell_type": "code",
   "execution_count": null,
   "id": "b272b9c8",
   "metadata": {},
   "outputs": [],
   "source": [
    "int(4.3)"
   ]
  },
  {
   "cell_type": "code",
   "execution_count": null,
   "id": "5d744aa5",
   "metadata": {},
   "outputs": [],
   "source": [
    "str(13)"
   ]
  },
  {
   "cell_type": "code",
   "execution_count": null,
   "id": "f03aa2b1",
   "metadata": {},
   "outputs": [],
   "source": [
    "float(5)"
   ]
  },
  {
   "cell_type": "code",
   "execution_count": null,
   "id": "2712ead8",
   "metadata": {},
   "outputs": [],
   "source": [
    "idade = input('Digite sua idade: ')\n",
    "if idade > 13:\n",
    "    print('Você pode acessar redes sociais sem supervisão!')\n",
    "else:\n",
    "    print('Você precisa de acompanhamento dos seus responsáveis!')"
   ]
  },
  {
   "cell_type": "code",
   "execution_count": null,
   "id": "ab3d0c6a",
   "metadata": {},
   "outputs": [],
   "source": [
    "idade = int(input('Digite sua idade: '))\n",
    "if idade > 13:\n",
    "    print('Você pode acessar redes sociais sem supervisão!')\n",
    "else:\n",
    "    print('Você precisa de acompanhamento dos seus responsáveis!')"
   ]
  },
  {
   "cell_type": "code",
   "execution_count": null,
   "id": "5f394c05",
   "metadata": {},
   "outputs": [],
   "source": [
    "int('26')"
   ]
  },
  {
   "cell_type": "code",
   "execution_count": null,
   "id": "6179e9c7",
   "metadata": {},
   "outputs": [],
   "source": [
    "float('123.456')"
   ]
  },
  {
   "cell_type": "code",
   "execution_count": null,
   "id": "ef042afd",
   "metadata": {},
   "outputs": [],
   "source": [
    "str(14)"
   ]
  },
  {
   "cell_type": "code",
   "execution_count": null,
   "id": "4864fcaa",
   "metadata": {},
   "outputs": [],
   "source": [
    "len([23,24,25,26])"
   ]
  },
  {
   "cell_type": "code",
   "execution_count": null,
   "id": "fc4e9234",
   "metadata": {},
   "outputs": [],
   "source": [
    "array = [1,2,3]"
   ]
  },
  {
   "cell_type": "code",
   "execution_count": null,
   "id": "a8d9b678",
   "metadata": {},
   "outputs": [],
   "source": [
    "max(array)"
   ]
  },
  {
   "cell_type": "code",
   "execution_count": null,
   "id": "458a69d7",
   "metadata": {},
   "outputs": [],
   "source": [
    "min(array)"
   ]
  },
  {
   "cell_type": "code",
   "execution_count": null,
   "id": "c6850c63",
   "metadata": {},
   "outputs": [],
   "source": [
    "list1 = [16,17,18,19]"
   ]
  },
  {
   "cell_type": "code",
   "execution_count": null,
   "id": "246739fa",
   "metadata": {},
   "outputs": [],
   "source": [
    "sum(list1)"
   ]
  },
  {
   "cell_type": "markdown",
   "id": "504eb22e",
   "metadata": {},
   "source": [
    "### Criando funções usando outras funções"
   ]
  },
  {
   "cell_type": "code",
   "execution_count": null,
   "id": "37b144d4",
   "metadata": {},
   "outputs": [],
   "source": [
    "import math\n",
    "\n",
    "def numPrimo(num):\n",
    "    if(num % 2) == 0 and num > 2:\n",
    "        return 'Este número não é primo!'\n",
    "    for i in range(3, int(math.sqrt(num)) + 1, 2):\n",
    "        if (num % i) == 0:\n",
    "            return 'Este número não é primo!'\n",
    "    return 'Este número é primo!'"
   ]
  },
  {
   "cell_type": "code",
   "execution_count": null,
   "id": "ee44b394",
   "metadata": {},
   "outputs": [],
   "source": [
    "numPrimo(541)"
   ]
  },
  {
   "cell_type": "code",
   "execution_count": null,
   "id": "e6649830",
   "metadata": {},
   "outputs": [],
   "source": [
    "numPrimo(2)"
   ]
  },
  {
   "cell_type": "code",
   "execution_count": null,
   "id": "fbe74a86",
   "metadata": {},
   "outputs": [],
   "source": [
    "caixa_baixa = 'Este Texto Deveria Estar em LOWERCASE'"
   ]
  },
  {
   "cell_type": "code",
   "execution_count": null,
   "id": "25a78522",
   "metadata": {},
   "outputs": [],
   "source": [
    "caixa_baixa.lower()"
   ]
  },
  {
   "cell_type": "markdown",
   "id": "d3fab97e",
   "metadata": {},
   "source": [
    "### Split de Dados"
   ]
  },
  {
   "cell_type": "code",
   "execution_count": null,
   "id": "01af82e3",
   "metadata": {},
   "outputs": [],
   "source": [
    "def split_string_palavras(text):\n",
    "    return text.split(' ')"
   ]
  },
  {
   "cell_type": "code",
   "execution_count": null,
   "id": "fc4bd1cc",
   "metadata": {},
   "outputs": [],
   "source": [
    "texto = 'Esta função será útil para separar grandes volumes de dados'"
   ]
  },
  {
   "cell_type": "code",
   "execution_count": null,
   "id": "ca7c4288",
   "metadata": {},
   "outputs": [],
   "source": [
    "print(split_string_palavras(texto))"
   ]
  },
  {
   "cell_type": "code",
   "execution_count": null,
   "id": "2fcee9ad",
   "metadata": {},
   "outputs": [],
   "source": [
    "token = split_string_palavras(texto)"
   ]
  },
  {
   "cell_type": "code",
   "execution_count": null,
   "id": "532783e1",
   "metadata": {},
   "outputs": [],
   "source": [
    "token"
   ]
  },
  {
   "cell_type": "code",
   "execution_count": null,
   "id": "5091702b",
   "metadata": {},
   "outputs": [],
   "source": [
    "def split_string_letras(text):\n",
    "    texto = text.upper()\n",
    "    for letra in texto:\n",
    "        print(letra)"
   ]
  },
  {
   "cell_type": "code",
   "execution_count": null,
   "id": "5640132f",
   "metadata": {},
   "outputs": [],
   "source": [
    "print(split_string_letras(texto))"
   ]
  }
 ],
 "metadata": {
  "kernelspec": {
   "display_name": "Python 3 (ipykernel)",
   "language": "python",
   "name": "python3"
  },
  "language_info": {
   "codemirror_mode": {
    "name": "ipython",
    "version": 3
   },
   "file_extension": ".py",
   "mimetype": "text/x-python",
   "name": "python",
   "nbconvert_exporter": "python",
   "pygments_lexer": "ipython3",
   "version": "3.9.13"
  }
 },
 "nbformat": 4,
 "nbformat_minor": 5
}
