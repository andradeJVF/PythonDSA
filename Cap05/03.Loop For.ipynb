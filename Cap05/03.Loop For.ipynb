{
 "cells": [
  {
   "cell_type": "markdown",
   "id": "dc633715",
   "metadata": {},
   "source": [
    "### Trabalhando com Loop (For)"
   ]
  },
  {
   "cell_type": "code",
   "execution_count": null,
   "id": "93f7a881",
   "metadata": {},
   "outputs": [],
   "source": [
    "tupla = (2,3,4)\n",
    "for i in tupla:\n",
    "    print(i)"
   ]
  },
  {
   "cell_type": "code",
   "execution_count": null,
   "id": "98181932",
   "metadata": {},
   "outputs": [],
   "source": [
    "ListaDeStrings = ['Data', 'Science', 'Academy']\n",
    "for i in ListaDeStrings:\n",
    "    print(i)"
   ]
  },
  {
   "cell_type": "code",
   "execution_count": null,
   "id": "e1db9d33",
   "metadata": {},
   "outputs": [],
   "source": [
    "for contador in range(0,5):\n",
    "    print(contador)"
   ]
  },
  {
   "cell_type": "code",
   "execution_count": null,
   "id": "e44156ad",
   "metadata": {},
   "outputs": [],
   "source": [
    "lista = [1,2,3,4,5,6,7,8,9,10]\n",
    "for num in lista:\n",
    "    if num % 2 == 0:\n",
    "        print(num)"
   ]
  },
  {
   "cell_type": "code",
   "execution_count": null,
   "id": "8720e7e8",
   "metadata": {},
   "outputs": [],
   "source": [
    "for i in range(0,101,2):\n",
    "    print(i)"
   ]
  },
  {
   "cell_type": "code",
   "execution_count": null,
   "id": "24f52d3f",
   "metadata": {},
   "outputs": [],
   "source": [
    "for caracter in 'Python é uma linguagem de programação divertida!':\n",
    "    print(caracter)"
   ]
  },
  {
   "cell_type": "markdown",
   "id": "2cb26559",
   "metadata": {},
   "source": [
    "### Loop For aninhado"
   ]
  },
  {
   "cell_type": "code",
   "execution_count": null,
   "id": "de373346",
   "metadata": {},
   "outputs": [],
   "source": [
    "for i in range(0,5):\n",
    "    for a in range(0,5):\n",
    "        print('\\n', a * i)\n",
    "    print('----')"
   ]
  },
  {
   "cell_type": "code",
   "execution_count": null,
   "id": "504b427c",
   "metadata": {},
   "outputs": [],
   "source": [
    "lista1 = [0,1,2,3,4]\n",
    "lista2 = [1,2,3]\n",
    "\n",
    "for elemento1 in lista1:\n",
    "    for elemento2 in lista2:\n",
    "        print('\\n', elemento1 * elemento2)\n",
    "    print('----')"
   ]
  },
  {
   "cell_type": "code",
   "execution_count": null,
   "id": "393ba038",
   "metadata": {},
   "outputs": [],
   "source": [
    "lista1 = [10,16,24,39,47]\n",
    "lista2 = [32,89,47,76,12]\n",
    "\n",
    "for elemento1 in lista1:\n",
    "    for elemento2 in lista2:\n",
    "        if elemento1 == 47 and elemento2 == 47:\n",
    "            print('O número 47 foi encontrado nas duas listas!')"
   ]
  },
  {
   "cell_type": "code",
   "execution_count": null,
   "id": "1fe5f416",
   "metadata": {},
   "outputs": [],
   "source": [
    "lista1 = [10,16,24,39,47]\n",
    "lista2 = [32,89,47,76,12]\n",
    "soma = 0\n",
    "\n",
    "for lista in [lista1, lista2]:\n",
    "    for num in lista:\n",
    "        if num % 2 == 0:\n",
    "            soma += num\n",
    "print(\"A soma dos números pares das duas listas é igual a\", soma)"
   ]
  },
  {
   "cell_type": "code",
   "execution_count": null,
   "id": "b52dfce5",
   "metadata": {},
   "outputs": [],
   "source": [
    "#Concatenando listas\n",
    "lista1 + lista2"
   ]
  },
  {
   "cell_type": "code",
   "execution_count": null,
   "id": "a343bcc9",
   "metadata": {},
   "outputs": [],
   "source": [
    "lista1 = [10,16,24,39,47]\n",
    "lista2 = [32,89,47,76,12]\n",
    "soma = 0\n",
    "\n",
    "for num in lista1 + lista2:\n",
    "    if num % 2 == 0:\n",
    "        soma += num\n",
    "print('Soma dos valores pares:', soma)"
   ]
  },
  {
   "cell_type": "code",
   "execution_count": null,
   "id": "4c542b2a",
   "metadata": {},
   "outputs": [],
   "source": [
    "#Matriz (lista de listas)\n",
    "matriz = [[42,23,34], [100,215,114], [10.1,98.7,12.3]]\n",
    "maior_numero = 0\n",
    "\n",
    "for linha in matriz:\n",
    "    for num in linha:\n",
    "        if num > maior_numero:\n",
    "            maior_numero = num\n",
    "print('O maior número da matriz é:', maior_numero)"
   ]
  },
  {
   "cell_type": "code",
   "execution_count": null,
   "id": "a917d414",
   "metadata": {},
   "outputs": [],
   "source": [
    "dict = {'K1':'Python', 'K2':'R', 'K3':'Scala'}\n",
    "for item in dict:\n",
    "    print(item)"
   ]
  },
  {
   "cell_type": "code",
   "execution_count": null,
   "id": "91f1ca52",
   "metadata": {},
   "outputs": [],
   "source": [
    "for k,v in dict.items():\n",
    "    print(k + ' - ' + v)"
   ]
  },
  {
   "cell_type": "code",
   "execution_count": null,
   "id": "af8b42c4",
   "metadata": {},
   "outputs": [],
   "source": []
  }
 ],
 "metadata": {
  "kernelspec": {
   "display_name": "Python 3 (ipykernel)",
   "language": "python",
   "name": "python3"
  },
  "language_info": {
   "codemirror_mode": {
    "name": "ipython",
    "version": 3
   },
   "file_extension": ".py",
   "mimetype": "text/x-python",
   "name": "python",
   "nbconvert_exporter": "python",
   "pygments_lexer": "ipython3",
   "version": "3.9.13"
  }
 },
 "nbformat": 4,
 "nbformat_minor": 5
}
