{
 "cells": [
  {
   "cell_type": "markdown",
   "id": "50a70e1d",
   "metadata": {},
   "source": [
    "### Expressão Lambda"
   ]
  },
  {
   "cell_type": "code",
   "execution_count": null,
   "id": "f0b383a3",
   "metadata": {},
   "outputs": [],
   "source": [
    "def potencia(num):\n",
    "    resultado = num ** 2\n",
    "    return resultado"
   ]
  },
  {
   "cell_type": "code",
   "execution_count": null,
   "id": "42e54f55",
   "metadata": {},
   "outputs": [],
   "source": [
    "potencia(5)"
   ]
  },
  {
   "cell_type": "code",
   "execution_count": null,
   "id": "0cc19979",
   "metadata": {},
   "outputs": [],
   "source": [
    "def potencia(num):\n",
    "    return num ** 2"
   ]
  },
  {
   "cell_type": "code",
   "execution_count": null,
   "id": "bf6b92e8",
   "metadata": {},
   "outputs": [],
   "source": [
    "potencia(4)"
   ]
  },
  {
   "cell_type": "code",
   "execution_count": null,
   "id": "e12e3d07",
   "metadata": {},
   "outputs": [],
   "source": [
    "def potencia(num): return num ** 2"
   ]
  },
  {
   "cell_type": "code",
   "execution_count": null,
   "id": "81caf267",
   "metadata": {},
   "outputs": [],
   "source": [
    "potencia(3)"
   ]
  },
  {
   "cell_type": "code",
   "execution_count": null,
   "id": "3ad3091e",
   "metadata": {},
   "outputs": [],
   "source": [
    "potencia = lambda num: num ** 2"
   ]
  },
  {
   "cell_type": "code",
   "execution_count": null,
   "id": "33357f36",
   "metadata": {},
   "outputs": [],
   "source": [
    "potencia(2)"
   ]
  },
  {
   "cell_type": "code",
   "execution_count": null,
   "id": "fcc778f0",
   "metadata": {},
   "outputs": [],
   "source": [
    "Par = lambda x: x%2==0"
   ]
  },
  {
   "cell_type": "code",
   "execution_count": null,
   "id": "066c7bef",
   "metadata": {},
   "outputs": [],
   "source": [
    "Par(3)"
   ]
  },
  {
   "cell_type": "code",
   "execution_count": null,
   "id": "b1f6ae4b",
   "metadata": {},
   "outputs": [],
   "source": [
    "Par(6)"
   ]
  },
  {
   "cell_type": "code",
   "execution_count": null,
   "id": "11bff341",
   "metadata": {},
   "outputs": [],
   "source": [
    "first = lambda s: s[0]"
   ]
  },
  {
   "cell_type": "code",
   "execution_count": null,
   "id": "d074b37d",
   "metadata": {},
   "outputs": [],
   "source": [
    "first('Texto')"
   ]
  },
  {
   "cell_type": "code",
   "execution_count": null,
   "id": "72f34977",
   "metadata": {},
   "outputs": [],
   "source": [
    "reverso = lambda s: s[::-1]"
   ]
  },
  {
   "cell_type": "code",
   "execution_count": null,
   "id": "cb45193e",
   "metadata": {},
   "outputs": [],
   "source": [
    "reverso('Texto')"
   ]
  },
  {
   "cell_type": "code",
   "execution_count": null,
   "id": "6306a57c",
   "metadata": {},
   "outputs": [],
   "source": [
    "soma = lambda x,y: x+y"
   ]
  },
  {
   "cell_type": "code",
   "execution_count": null,
   "id": "b2a91703",
   "metadata": {},
   "outputs": [],
   "source": [
    "soma(1,2)"
   ]
  }
 ],
 "metadata": {
  "kernelspec": {
   "display_name": "Python 3 (ipykernel)",
   "language": "python",
   "name": "python3"
  },
  "language_info": {
   "codemirror_mode": {
    "name": "ipython",
    "version": 3
   },
   "file_extension": ".py",
   "mimetype": "text/x-python",
   "name": "python",
   "nbconvert_exporter": "python",
   "pygments_lexer": "ipython3",
   "version": "3.9.13"
  }
 },
 "nbformat": 4,
 "nbformat_minor": 5
}
