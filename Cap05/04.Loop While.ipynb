{
 "cells": [
  {
   "cell_type": "markdown",
   "id": "03424389",
   "metadata": {},
   "source": [
    "### Loop While"
   ]
  },
  {
   "cell_type": "code",
   "execution_count": null,
   "id": "615ad4e3",
   "metadata": {},
   "outputs": [],
   "source": [
    "valor = 0\n",
    "while valor < 10:\n",
    "    print(valor)\n",
    "    valor += 1"
   ]
  },
  {
   "cell_type": "code",
   "execution_count": null,
   "id": "e69cc00b",
   "metadata": {},
   "outputs": [],
   "source": [
    "#A condição precisa ser verdadeira pelo menos 1 vez e precisa deixar de ser verdadeira em um momento\n",
    "valor = 11\n",
    "while valor < 10:\n",
    "    print(v)\n",
    "    valor += 1"
   ]
  },
  {
   "cell_type": "code",
   "execution_count": null,
   "id": "95642540",
   "metadata": {},
   "outputs": [],
   "source": [
    "x = 0\n",
    "while x < 10:\n",
    "    print('O valor de x nesta interação é: ',x)\n",
    "    print(' x ainda é menor que 10, somando 1 a x')\n",
    "    x += 1\n",
    "else:\n",
    "    print('Loop concluído!')\n",
    "print(x)"
   ]
  },
  {
   "cell_type": "code",
   "execution_count": null,
   "id": "bfa4ff55",
   "metadata": {},
   "outputs": [],
   "source": [
    "valor = 0\n",
    "while valor < 10:\n",
    "    if valor ==4:\n",
    "        break\n",
    "    else:\n",
    "        pass\n",
    "    print(valor)\n",
    "    valor += 1"
   ]
  },
  {
   "cell_type": "code",
   "execution_count": null,
   "id": "910ba728",
   "metadata": {},
   "outputs": [],
   "source": [
    "for letra in 'Python é zzz incrível!':\n",
    "    if letra == 'z':\n",
    "        continue\n",
    "    print(letra)"
   ]
  },
  {
   "cell_type": "markdown",
   "id": "452afdd4",
   "metadata": {},
   "source": [
    "### For e While juntos"
   ]
  },
  {
   "cell_type": "code",
   "execution_count": null,
   "id": "8c29c7b5",
   "metadata": {},
   "outputs": [],
   "source": [
    "#Imprimindo uma lista de números primos entre 2 e 30\n",
    "primos = []\n",
    "for n in range(2,31):\n",
    "    eh_primo = True\n",
    "    i = 2\n",
    "    while i <= n // 2:\n",
    "        if n % i == 0:\n",
    "            eh_primo = False\n",
    "            break\n",
    "        i += 1\n",
    "    if eh_primo:\n",
    "        #append adiciona um valor a lista\n",
    "        primos.append(n)\n",
    "print(primos)"
   ]
  },
  {
   "cell_type": "code",
   "execution_count": null,
   "id": "2fcb0852",
   "metadata": {},
   "outputs": [],
   "source": []
  }
 ],
 "metadata": {
  "kernelspec": {
   "display_name": "Python 3 (ipykernel)",
   "language": "python",
   "name": "python3"
  },
  "language_info": {
   "codemirror_mode": {
    "name": "ipython",
    "version": 3
   },
   "file_extension": ".py",
   "mimetype": "text/x-python",
   "name": "python",
   "nbconvert_exporter": "python",
   "pygments_lexer": "ipython3",
   "version": "3.9.13"
  }
 },
 "nbformat": 4,
 "nbformat_minor": 5
}
